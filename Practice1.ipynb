{
 "cells": [
  {
   "cell_type": "markdown",
   "id": "cdad4e45-a763-4c93-b10d-03bc50216bb0",
   "metadata": {},
   "source": [
    "# Практика №1"
   ]
  },
  {
   "cell_type": "markdown",
   "id": "a5137657-3b8f-4945-aad9-9e43e7e87ef2",
   "metadata": {},
   "source": [
    "**Для начала установим библиотеки numpy и scipy**"
   ]
  },
  {
   "cell_type": "code",
   "execution_count": 1,
   "id": "e89cdb9f-5561-454b-b3cb-b19d88e7c189",
   "metadata": {},
   "outputs": [],
   "source": [
    "import numpy as np\n",
    "import scipy.stats as stats\n",
    "import matplotlib.pyplot as plt\n",
    "from scipy import stats\n",
    "from math import ceil\n",
    "import pandas as pd\n",
    "# Установка seed для воспроизводимости\n",
    "np.random.seed(42)"
   ]
  },
  {
   "cell_type": "markdown",
   "id": "26ba0531-f37f-45d2-b363-5fba46ddf782",
   "metadata": {},
   "source": [
    "## 1. Генерация"
   ]
  },
  {
   "cell_type": "markdown",
   "id": "5466d0f2-1985-4fa3-8209-bb337ad75cf3",
   "metadata": {},
   "source": [
    "Cледующим шагом станет генераия набора чисел, имеющих нормальное(1.1), экспоненциальное(1.2) и равномерное(1.3) распределение.\n",
    "Опписание распределений:\n",
    "1) Нормальное распределение, также известное как распределение Гаусса, является наиболее распространенным и важным в статистике. Оно описывает явления, где большинство наблюдений сгруппировано вокруг среднего значения.\n",
    "2) Экспоненциальное распределение описывает время ожидания до наступления некоторого события в процессе, где эти события происходят непрерывно и независимо с постоянной средней скоростью. Ключевые характеристики - Форма: Асимметричное, имеет длинный \"хвост\". Центр: Начинается в нуле и резко убывает. Параметр: Определяется одним параметром — скоростью (λ), которая является обратной величиной среднего времени ожидания.\n",
    "3) Равномерное распределение, или прямоугольное распределение, описывает ситуацию, когда все значения в заданном интервале имеют одинаковую вероятность быть выбранными."
   ]
  },
  {
   "cell_type": "markdown",
   "id": "8ce1f615-6eaa-4486-bf5d-9f9c3ffb0c0d",
   "metadata": {},
   "source": [
    "### 1.1. Нормальное распределение"
   ]
  },
  {
   "cell_type": "markdown",
   "id": "26f192a3-2b8b-4867-9d5f-d3a037715162",
   "metadata": {},
   "source": [
    "Данные внутри метода вывода чисел согласно распределению:\n",
    "1) 0\tloc\tμ (мю)\tСреднее значение. Центр распределения.\n",
    "2) 1\tscale\tσ (сигма)\tСтандартное отклонение (Standard Deviation). Мера разброса данных относительно среднего.\n",
    "3) 100\tsize\tN\tРазмер выборки. Количество случайных чисел, которые будут сгенерированы."
   ]
  },
  {
   "cell_type": "code",
   "execution_count": 2,
   "id": "0d7245af-cc36-46f3-8623-2643de24f5fa",
   "metadata": {},
   "outputs": [
    {
     "name": "stdout",
     "output_type": "stream",
     "text": [
      "[ 0.49671415 -0.1382643   0.64768854  1.52302986 -0.23415337 -0.23413696\n",
      "  1.57921282  0.76743473 -0.46947439  0.54256004 -0.46341769 -0.46572975\n",
      "  0.24196227 -1.91328024 -1.72491783 -0.56228753 -1.01283112  0.31424733\n",
      " -0.90802408 -1.4123037   1.46564877 -0.2257763   0.0675282  -1.42474819\n",
      " -0.54438272  0.11092259 -1.15099358  0.37569802 -0.60063869 -0.29169375\n",
      " -0.60170661  1.85227818 -0.01349722 -1.05771093  0.82254491 -1.22084365\n",
      "  0.2088636  -1.95967012 -1.32818605  0.19686124  0.73846658  0.17136828\n",
      " -0.11564828 -0.3011037  -1.47852199 -0.71984421 -0.46063877  1.05712223\n",
      "  0.34361829 -1.76304016  0.32408397 -0.38508228 -0.676922    0.61167629\n",
      "  1.03099952  0.93128012 -0.83921752 -0.30921238  0.33126343  0.97554513\n",
      " -0.47917424 -0.18565898 -1.10633497 -1.19620662  0.81252582  1.35624003\n",
      " -0.07201012  1.0035329   0.36163603 -0.64511975  0.36139561  1.53803657\n",
      " -0.03582604  1.56464366 -2.6197451   0.8219025   0.08704707 -0.29900735\n",
      "  0.09176078 -1.98756891 -0.21967189  0.35711257  1.47789404 -0.51827022\n",
      " -0.8084936  -0.50175704  0.91540212  0.32875111 -0.5297602   0.51326743\n",
      "  0.09707755  0.96864499 -0.70205309 -0.32766215 -0.39210815 -1.46351495\n",
      "  0.29612028  0.26105527  0.00511346 -0.23458713]\n"
     ]
    }
   ],
   "source": [
    "normal = np.random.normal(0,1,100)\n",
    "print(normal)"
   ]
  },
  {
   "cell_type": "markdown",
   "id": "d3c16bed-b068-4797-9f25-b6e9bb4363a0",
   "metadata": {},
   "source": [
    "### 1.2. Экспоненциальное"
   ]
  },
  {
   "cell_type": "markdown",
   "id": "6054903d-ce49-4125-8eea-f19a459d388f",
   "metadata": {},
   "source": [
    "Данные внутри метода вывода чисел согласно распределению:\n",
    "1) 1/1.0\tscale\tβ\tПараметр масштаба. Определяет форму и среднее значение распределения.\n",
    "2) 100\tsize\tN\tРазмер выборки. Количество случайных чисел, которые будут сгенерированы."
   ]
  },
  {
   "cell_type": "code",
   "execution_count": 3,
   "id": "4d7566d6-4389-4a9a-aa5a-f292aae8cdd4",
   "metadata": {},
   "outputs": [
    {
     "name": "stdout",
     "output_type": "stream",
     "text": [
      "[0.54027332 0.25116734 0.12768039 0.41190858 2.86312112 0.3903838\n",
      " 0.73145281 1.21408698 0.4519745  3.56779814 3.28200986 0.29006129\n",
      " 0.68765928 0.35793046 0.33524968 0.03758448 0.94049207 0.69851963\n",
      " 0.05285109 0.32662592 2.38886095 0.27386055 0.15653086 0.67227211\n",
      " 4.24403698 0.27714481 1.11515501 1.43388763 0.27133317 1.30274893\n",
      " 0.4585228  1.00050375 1.00383783 0.76738525 0.09462916 1.80364479\n",
      " 0.38681029 0.20643211 0.04162976 0.8937784  1.13185173 0.01672695\n",
      " 0.71763058 0.25682415 1.03612434 0.19160422 1.17421253 0.4889587\n",
      " 2.76034382 0.14794441 0.41713243 0.12044429 2.5861904  2.09833371\n",
      " 0.29832737 1.07876274 1.69948407 0.81013236 0.75427941 0.27687705\n",
      " 0.09772614 2.27512323 2.30677443 1.00266992 0.41404651 0.42956762\n",
      " 1.29446543 2.27409735 2.18113257 1.51356219 1.02731069 0.08789173\n",
      " 0.17629421 2.2882305  0.93249395 0.00923961 0.1069969  1.08916239\n",
      " 0.00507444 0.17531582 0.79569785 1.17731529 1.05544148 0.25394987\n",
      " 1.24541729 0.27082376 0.39363491 1.37235755 1.04877381 1.89195608\n",
      " 1.07181329 0.84004431 0.09835706 0.45841631 0.30816015 0.2797002\n",
      " 3.61230941 0.4993875  2.22605521 0.99733439]\n"
     ]
    }
   ],
   "source": [
    "exponential = np.random.exponential(1/1.0, 100)\n",
    "print(exponential)"
   ]
  },
  {
   "cell_type": "markdown",
   "id": "6c6fe950-fe2c-464e-8988-6a9ddd870314",
   "metadata": {},
   "source": [
    "### 1.3. Равномерное распреденление"
   ]
  },
  {
   "cell_type": "markdown",
   "id": "34c2f597-d770-4c62-9794-fc97bc01b518",
   "metadata": {},
   "source": [
    "Данные внутри метода вывода чисел согласно распределению:\n",
    "1) 0\tlow (Нижняя граница)\tМинимальное значение, которое может быть сгенерировано (включительно).\n",
    "2) 10\thigh (Верхняя граница)\tМаксимальное значение, которое может быть сгенерировано (исключительно).\n",
    "3) 100\tsize (Размер выборки N)\tКоличество случайных чисел, которые будут сгенерированы."
   ]
  },
  {
   "cell_type": "code",
   "execution_count": 4,
   "id": "87c3871d-a981-4be5-8789-4beb156acb7c",
   "metadata": {},
   "outputs": [
    {
     "name": "stdout",
     "output_type": "stream",
     "text": [
      "[7.94811304 5.02637093 5.76903885 4.92517694 1.95242988 7.22452115\n",
      " 2.80772362 0.24315966 6.45472296 1.77110679 9.40458584 9.53928577\n",
      " 9.1486439  3.701587   0.15456617 9.28318563 4.28184148 9.66654819\n",
      " 9.63619977 8.53009455 2.94448892 3.85097729 8.51136672 3.16922005\n",
      " 1.69492747 5.56801262 9.36154774 6.96029797 5.7006117  0.97176494\n",
      " 6.15007227 9.9005385  1.40084015 5.18329652 8.77373072 7.40768618\n",
      " 6.97015741 7.02484084 3.59491151 2.93591844 8.09361155 8.10113395\n",
      " 8.67072319 9.13240553 5.11342399 5.01516295 7.98295179 6.49963931\n",
      " 7.01966877 7.95792669 8.90005342 3.37995157 3.75582953 0.9398194\n",
      " 5.78280141 0.35942274 4.65598018 5.42644635 2.86541252 5.90833261\n",
      " 0.3050025  0.37348189 8.22600561 3.60190641 1.27060513 5.2224326\n",
      " 7.69993553 2.15821027 6.22890476 0.85347465 0.51681721 5.31354632\n",
      " 5.40635122 6.37429901 7.26091334 9.75852079 5.16300348 3.22956473\n",
      " 7.95186195 2.70832251 4.38971421 0.78456381 0.25350743 9.62648415\n",
      " 8.35980121 6.95974206 4.08952944 1.7329432  1.56437043 2.50242898\n",
      " 5.49226665 7.14595923 6.60197377 2.79933897 9.54865281 7.37896917\n",
      " 5.54354053 6.11720746 4.19600062 2.4773099 ]\n"
     ]
    }
   ],
   "source": [
    "uniform = np.random.uniform(0, 10, 100)\n",
    "print(uniform)"
   ]
  },
  {
   "cell_type": "markdown",
   "id": "a7076125-04bf-47ef-a747-e2abc247c14c",
   "metadata": {},
   "source": [
    "## 2. Построение по сгенерированным данным"
   ]
  },
  {
   "cell_type": "markdown",
   "id": "3da6b179-502f-41bc-a3f2-c95b260056ab",
   "metadata": {},
   "source": [
    "## 2.1. Вариационные ряды"
   ]
  },
  {
   "cell_type": "markdown",
   "id": "3649bd68-b31f-47c4-bbff-83018c85df51",
   "metadata": {},
   "source": [
    "**Вариационный ряд  — это способ представления статистических данных, полученных в результате наблюдения за каким-либо признаком, путем их упорядочивания (сортировки).**"
   ]
  },
  {
   "cell_type": "markdown",
   "id": "df7f3fa7-87b4-4da5-b34b-5ffd726880da",
   "metadata": {},
   "source": [
    "**Нормальное распределение**"
   ]
  },
  {
   "cell_type": "code",
   "execution_count": 5,
   "id": "e8d62a4f-5ec2-4d78-96a0-f8b8189758b9",
   "metadata": {},
   "outputs": [
    {
     "name": "stdout",
     "output_type": "stream",
     "text": [
      "[-2.6197451  -1.98756891 -1.95967012 -1.91328024 -1.76304016 -1.72491783\n",
      " -1.47852199 -1.46351495 -1.42474819 -1.4123037  -1.32818605 -1.22084365\n",
      " -1.19620662 -1.15099358 -1.10633497 -1.05771093 -1.01283112 -0.90802408\n",
      " -0.83921752 -0.8084936  -0.71984421 -0.70205309 -0.676922   -0.64511975\n",
      " -0.60170661 -0.60063869 -0.56228753 -0.54438272 -0.5297602  -0.51827022\n",
      " -0.50175704 -0.47917424 -0.46947439 -0.46572975 -0.46341769 -0.46063877\n",
      " -0.39210815 -0.38508228 -0.32766215 -0.30921238 -0.3011037  -0.29900735\n",
      " -0.29169375 -0.23458713 -0.23415337 -0.23413696 -0.2257763  -0.21967189\n",
      " -0.18565898 -0.1382643  -0.11564828 -0.07201012 -0.03582604 -0.01349722\n",
      "  0.00511346  0.0675282   0.08704707  0.09176078  0.09707755  0.11092259\n",
      "  0.17136828  0.19686124  0.2088636   0.24196227  0.26105527  0.29612028\n",
      "  0.31424733  0.32408397  0.32875111  0.33126343  0.34361829  0.35711257\n",
      "  0.36139561  0.36163603  0.37569802  0.49671415  0.51326743  0.54256004\n",
      "  0.61167629  0.64768854  0.73846658  0.76743473  0.81252582  0.8219025\n",
      "  0.82254491  0.91540212  0.93128012  0.96864499  0.97554513  1.0035329\n",
      "  1.03099952  1.05712223  1.35624003  1.46564877  1.47789404  1.52302986\n",
      "  1.53803657  1.56464366  1.57921282  1.85227818]\n"
     ]
    }
   ],
   "source": [
    "variational_series_normal = np.sort(normal)\n",
    "print(variational_series_normal)"
   ]
  },
  {
   "cell_type": "markdown",
   "id": "c85d4706-cdde-42c7-a79e-8aff8b630d78",
   "metadata": {},
   "source": [
    "**Экспоненциальное**"
   ]
  },
  {
   "cell_type": "code",
   "execution_count": 6,
   "id": "9031d2b2-611c-49cf-9bee-bee6b60b127b",
   "metadata": {},
   "outputs": [
    {
     "name": "stdout",
     "output_type": "stream",
     "text": [
      "[0.00507444 0.00923961 0.01672695 0.03758448 0.04162976 0.05285109\n",
      " 0.08789173 0.09462916 0.09772614 0.09835706 0.1069969  0.12044429\n",
      " 0.12768039 0.14794441 0.15653086 0.17531582 0.17629421 0.19160422\n",
      " 0.20643211 0.25116734 0.25394987 0.25682415 0.27082376 0.27133317\n",
      " 0.27386055 0.27687705 0.27714481 0.2797002  0.29006129 0.29832737\n",
      " 0.30816015 0.32662592 0.33524968 0.35793046 0.38681029 0.3903838\n",
      " 0.39363491 0.41190858 0.41404651 0.41713243 0.42956762 0.4519745\n",
      " 0.45841631 0.4585228  0.4889587  0.4993875  0.54027332 0.67227211\n",
      " 0.68765928 0.69851963 0.71763058 0.73145281 0.75427941 0.76738525\n",
      " 0.79569785 0.81013236 0.84004431 0.8937784  0.93249395 0.94049207\n",
      " 0.99733439 1.00050375 1.00266992 1.00383783 1.02731069 1.03612434\n",
      " 1.04877381 1.05544148 1.07181329 1.07876274 1.08916239 1.11515501\n",
      " 1.13185173 1.17421253 1.17731529 1.21408698 1.24541729 1.29446543\n",
      " 1.30274893 1.37235755 1.43388763 1.51356219 1.69948407 1.80364479\n",
      " 1.89195608 2.09833371 2.18113257 2.22605521 2.27409735 2.27512323\n",
      " 2.2882305  2.30677443 2.38886095 2.5861904  2.76034382 2.86312112\n",
      " 3.28200986 3.56779814 3.61230941 4.24403698]\n"
     ]
    }
   ],
   "source": [
    "variational_series_exponential = np.sort(exponential)\n",
    "print(variational_series_exponential)"
   ]
  },
  {
   "cell_type": "markdown",
   "id": "3eb1443a-fb70-4f5d-9426-deb273724d0f",
   "metadata": {},
   "source": [
    "**Равномерное**"
   ]
  },
  {
   "cell_type": "code",
   "execution_count": 7,
   "id": "f0a102f9-211d-4514-818f-7e3731f52a3b",
   "metadata": {},
   "outputs": [
    {
     "name": "stdout",
     "output_type": "stream",
     "text": [
      "[0.15456617 0.24315966 0.25350743 0.3050025  0.35942274 0.37348189\n",
      " 0.51681721 0.78456381 0.85347465 0.9398194  0.97176494 1.27060513\n",
      " 1.40084015 1.56437043 1.69492747 1.7329432  1.77110679 1.95242988\n",
      " 2.15821027 2.4773099  2.50242898 2.70832251 2.79933897 2.80772362\n",
      " 2.86541252 2.93591844 2.94448892 3.16922005 3.22956473 3.37995157\n",
      " 3.59491151 3.60190641 3.701587   3.75582953 3.85097729 4.08952944\n",
      " 4.19600062 4.28184148 4.38971421 4.65598018 4.92517694 5.01516295\n",
      " 5.02637093 5.11342399 5.16300348 5.18329652 5.2224326  5.31354632\n",
      " 5.40635122 5.42644635 5.49226665 5.54354053 5.56801262 5.7006117\n",
      " 5.76903885 5.78280141 5.90833261 6.11720746 6.15007227 6.22890476\n",
      " 6.37429901 6.45472296 6.49963931 6.60197377 6.95974206 6.96029797\n",
      " 6.97015741 7.01966877 7.02484084 7.14595923 7.22452115 7.26091334\n",
      " 7.37896917 7.40768618 7.69993553 7.94811304 7.95186195 7.95792669\n",
      " 7.98295179 8.09361155 8.10113395 8.22600561 8.35980121 8.51136672\n",
      " 8.53009455 8.67072319 8.77373072 8.90005342 9.13240553 9.1486439\n",
      " 9.28318563 9.36154774 9.40458584 9.53928577 9.54865281 9.62648415\n",
      " 9.63619977 9.66654819 9.75852079 9.9005385 ]\n"
     ]
    }
   ],
   "source": [
    "variational_series_uniform = np.sort(uniform)\n",
    "print(variational_series_uniform)"
   ]
  },
  {
   "cell_type": "markdown",
   "id": "48f56774-7c19-43be-88dc-fdc48cc71838",
   "metadata": {},
   "source": [
    "### 2.2. Группированный статистический ряд"
   ]
  },
  {
   "cell_type": "markdown",
   "id": "cf24d52e-2e2f-413f-9733-9dba5da73eef",
   "metadata": {},
   "source": [
    "**Нормальное**"
   ]
  },
  {
   "cell_type": "markdown",
   "id": "5dbb43aa-12ce-40b6-8b88-bc5cb2aa3586",
   "metadata": {},
   "source": [
    "**Итоговый результат grouped_statistical_series — это интервальный ряд распределения, который преобразует набор необработанных данных в упорядоченную таблицу, показывающую, как часто значения встречаются в определенных диапазонах. Это упрощает визуализацию (построение гистограммы) и дальнейший статистический анализ (например, расчет моды или медианы для группированных данных).**"
   ]
  },
  {
   "cell_type": "code",
   "execution_count": 8,
   "id": "3dd9c7aa-3c61-4dad-9554-1a25515d9820",
   "metadata": {},
   "outputs": [
    {
     "data": {
      "text/plain": [
       "[(np.float64(-2.6197451040897444),\n",
       "  np.float64(-2.2131975323989552),\n",
       "  np.int64(1)),\n",
       " (np.float64(-2.2131975323989552),\n",
       "  np.float64(-1.8066499607081659),\n",
       "  np.int64(3)),\n",
       " (np.float64(-1.8066499607081659),\n",
       "  np.float64(-1.4001023890173765),\n",
       "  np.int64(6)),\n",
       " (np.float64(-1.4001023890173765),\n",
       "  np.float64(-0.9935548173265873),\n",
       "  np.int64(7)),\n",
       " (np.float64(-0.9935548173265873),\n",
       "  np.float64(-0.5870072456357982),\n",
       "  np.int64(9)),\n",
       " (np.float64(-0.5870072456357982),\n",
       "  np.float64(-0.18045967394500861),\n",
       "  np.int64(23)),\n",
       " (np.float64(-0.18045967394500861),\n",
       "  np.float64(0.22608789774578053),\n",
       "  np.int64(14)),\n",
       " (np.float64(0.22608789774578053),\n",
       "  np.float64(0.6326354694365697),\n",
       "  np.int64(16)),\n",
       " (np.float64(0.6326354694365697),\n",
       "  np.float64(1.0391830411273588),\n",
       "  np.int64(12)),\n",
       " (np.float64(1.0391830411273588), np.float64(1.445730612818148), np.int64(2)),\n",
       " (np.float64(1.445730612818148), np.float64(1.8522781845089378), np.int64(7))]"
      ]
     },
     "metadata": {},
     "output_type": "display_data"
    }
   ],
   "source": [
    "freq1, bins1 = np.histogram(normal, bins='auto')\n",
    "grouped_series_normal = list(zip(bins1[:-1], bins1[1:], freq1))\n",
    "display(grouped_series_normal)"
   ]
  },
  {
   "cell_type": "markdown",
   "id": "6e733cbf-62d7-43eb-99c7-929ca986e83a",
   "metadata": {},
   "source": [
    "**Экспоненциальное**"
   ]
  },
  {
   "cell_type": "code",
   "execution_count": 9,
   "id": "2b64998f-dea2-4686-bb25-0b7bea2a7850",
   "metadata": {},
   "outputs": [
    {
     "data": {
      "text/plain": [
       "[(np.float64(0.005074437051797003),\n",
       "  np.float64(0.39043466846665725),\n",
       "  np.int64(36)),\n",
       " (np.float64(0.39043466846665725),\n",
       "  np.float64(0.7757948998815175),\n",
       "  np.int64(18)),\n",
       " (np.float64(0.7757948998815175),\n",
       "  np.float64(1.1611551312963777),\n",
       "  np.int64(19)),\n",
       " (np.float64(1.1611551312963777), np.float64(1.546515362711238), np.int64(9)),\n",
       " (np.float64(1.546515362711238), np.float64(1.9318755941260983), np.int64(3)),\n",
       " (np.float64(1.9318755941260983), np.float64(2.3172358255409584), np.int64(7)),\n",
       " (np.float64(2.3172358255409584), np.float64(2.702596056955819), np.int64(2)),\n",
       " (np.float64(2.702596056955819), np.float64(3.087956288370679), np.int64(2)),\n",
       " (np.float64(3.087956288370679), np.float64(3.473316519785539), np.int64(1)),\n",
       " (np.float64(3.473316519785539), np.float64(3.8586767512003997), np.int64(2)),\n",
       " (np.float64(3.8586767512003997), np.float64(4.24403698261526), np.int64(1))]"
      ]
     },
     "metadata": {},
     "output_type": "display_data"
    }
   ],
   "source": [
    "freq2, bins2 = np.histogram(exponential, bins='auto')\n",
    "grouped_series_exponential = list(zip(bins2[:-1], bins2[1:], freq2))\n",
    "display(grouped_series_exponential)"
   ]
  },
  {
   "cell_type": "markdown",
   "id": "0caac625-4469-4b07-aba8-173c3a8f7e5a",
   "metadata": {},
   "source": [
    "**Равномерное**"
   ]
  },
  {
   "cell_type": "code",
   "execution_count": 10,
   "id": "6aa3daa5-f3eb-4f05-9924-d26ae6157eff",
   "metadata": {},
   "outputs": [
    {
     "data": {
      "text/plain": [
       "[(np.float64(-2.6197451040897444),\n",
       "  np.float64(-2.2131975323989552),\n",
       "  np.int64(1)),\n",
       " (np.float64(-2.2131975323989552),\n",
       "  np.float64(-1.8066499607081659),\n",
       "  np.int64(3)),\n",
       " (np.float64(-1.8066499607081659),\n",
       "  np.float64(-1.4001023890173765),\n",
       "  np.int64(6)),\n",
       " (np.float64(-1.4001023890173765),\n",
       "  np.float64(-0.9935548173265873),\n",
       "  np.int64(7)),\n",
       " (np.float64(-0.9935548173265873),\n",
       "  np.float64(-0.5870072456357982),\n",
       "  np.int64(9)),\n",
       " (np.float64(-0.5870072456357982),\n",
       "  np.float64(-0.18045967394500861),\n",
       "  np.int64(23)),\n",
       " (np.float64(-0.18045967394500861),\n",
       "  np.float64(0.22608789774578053),\n",
       "  np.int64(14)),\n",
       " (np.float64(0.22608789774578053),\n",
       "  np.float64(0.6326354694365697),\n",
       "  np.int64(16)),\n",
       " (np.float64(0.6326354694365697),\n",
       "  np.float64(1.0391830411273588),\n",
       "  np.int64(12)),\n",
       " (np.float64(1.0391830411273588), np.float64(1.445730612818148), np.int64(2)),\n",
       " (np.float64(1.445730612818148), np.float64(1.8522781845089378), np.int64(7))]"
      ]
     },
     "metadata": {},
     "output_type": "display_data"
    }
   ],
   "source": [
    "freq3, bins3 = np.histogram(normal, bins='auto')\n",
    "grouped_series_uniform = list(zip(bins3[:-1], bins3[1:], freq3))\n",
    "display(grouped_series_uniform)"
   ]
  },
  {
   "cell_type": "markdown",
   "id": "fed80f07-2e65-4b8c-93e4-188f02633716",
   "metadata": {},
   "source": [
    "### 2.3. Построение гистограм"
   ]
  },
  {
   "cell_type": "code",
   "execution_count": 11,
   "id": "2811f69e-c7f1-45c1-9794-1370facef551",
   "metadata": {},
   "outputs": [
    {
     "data": {
      "image/png": "[encoded data removed]",
      "text/plain": [
       "<Figure size 1500x400 with 3 Axes>"
      ]
     },
     "metadata": {},
     "output_type": "display_data"
    }
   ],
   "source": [
    "plt.figure(figsize=(15, 4)) #установка размера графиков\n",
    "\n",
    "plt.subplot(1, 3, 1)\n",
    "plt.hist(normal, bins='auto', alpha=0.7)\n",
    "plt.title('Нормальное распределение')\n",
    "\n",
    "plt.subplot(1, 3, 2)\n",
    "plt.hist(exponential, bins='auto', alpha=0.7)\n",
    "plt.title('Экспоненциальное распределение')\n",
    "\n",
    "plt.subplot(1, 3, 3)\n",
    "plt.hist(uniform, bins='auto', alpha=0.7)\n",
    "plt.title('Равномерное распределение')\n",
    "\n",
    "plt.tight_layout()\n",
    "plt.show()"
   ]
  },
  {
   "cell_type": "markdown",
   "id": "c38874d9-1817-43c2-8c59-9509483eb8c0",
   "metadata": {},
   "source": [
    "### 2.4. Эмпирическую плотность распределения (огибающую гистограммы)."
   ]
  },
  {
   "cell_type": "markdown",
   "id": "05c42e60-3f5b-440e-81b4-002c12a67143",
   "metadata": {},
   "source": [
    "**Код визуализирует эмпирическую плотность (шумную, ступенчатую гистограмму) и накладывает на нее теоретическую плотность (гладкую, идеальную линию), чтобы показать качество совпадения.**"
   ]
  },
  {
   "cell_type": "code",
   "execution_count": 12,
   "id": "feb29536-179c-45b0-8eee-26a4773001bd",
   "metadata": {},
   "outputs": [
    {
     "data": {
      "image/png": "[encoded data removed]",
      "text/plain": [
       "<Figure size 1500x400 with 3 Axes>"
      ]
     },
     "metadata": {},
     "output_type": "display_data"
    }
   ],
   "source": [
    "fig, axes = plt.subplots(1, 3, figsize=(15, 4))\n",
    "\n",
    "axes[0].hist(normal, bins='auto', density=True, alpha=0.7)\n",
    "axes[0].plot(np.sort(normal), stats.norm.pdf(np.sort(normal), np.mean(normal), np.std(normal)), 'r-')\n",
    "axes[0].set_title('Нормальное')\n",
    "\n",
    "axes[1].hist(exponential, bins='auto', density=True, alpha=0.7)\n",
    "axes[1].plot(np.sort(exponential), stats.expon.pdf(np.sort(exponential), scale=1/np.mean(exponential)), 'r-')\n",
    "axes[1].set_title('Экспоненциальное')\n",
    "\n",
    "axes[2].hist(uniform, bins='auto', density=True, alpha=0.7)\n",
    "axes[2].axhline(y=1/10, color='red', linestyle='-')\n",
    "axes[2].set_title('Равномерное')\n",
    "\n",
    "plt.tight_layout()\n",
    "plt.show()"
   ]
  },
  {
   "cell_type": "markdown",
   "id": "1fd6fbed-9456-48f3-9ede-8b86dcffe973",
   "metadata": {},
   "source": [
    "___\n",
    "## 3. Вычисление метрик и статистики\n",
    "___"
   ]
  },
  {
   "cell_type": "code",
   "execution_count": 17,
   "id": "4b42a348-63bd-4f3a-a42f-4fae57c830ad",
   "metadata": {},
   "outputs": [
    {
     "data": {
      "text/plain": [
       "'Выборочные статистики для Нормальное'"
      ]
     },
     "metadata": {},
     "output_type": "display_data"
    },
    {
     "data": {
      "text/html": [
       "<div>\n",
       "<style scoped>\n",
       "    .dataframe tbody tr th:only-of-type {\n",
       "        vertical-align: middle;\n",
       "    }\n",
       "\n",
       "    .dataframe tbody tr th {\n",
       "        vertical-align: top;\n",
       "    }\n",
       "\n",
       "    .dataframe thead th {\n",
       "        text-align: right;\n",
       "    }\n",
       "</style>\n",
       "<table border=\"1\" class=\"dataframe\">\n",
       "  <thead>\n",
       "    <tr style=\"text-align: right;\">\n",
       "      <th></th>\n",
       "      <th>Статистика</th>\n",
       "      <th>Значение</th>\n",
       "    </tr>\n",
       "  </thead>\n",
       "  <tbody>\n",
       "    <tr>\n",
       "      <th>0</th>\n",
       "      <td>Среднее выборочное ($\\bar{x}$)</td>\n",
       "      <td>-0.1038</td>\n",
       "    </tr>\n",
       "    <tr>\n",
       "      <th>1</th>\n",
       "      <td>Дисперсия смещенная ($\\sigma^2$)</td>\n",
       "      <td>0.8165</td>\n",
       "    </tr>\n",
       "    <tr>\n",
       "      <th>2</th>\n",
       "      <td>Дисперсия несмещенная ($s^2$)</td>\n",
       "      <td>0.8248</td>\n",
       "    </tr>\n",
       "    <tr>\n",
       "      <th>3</th>\n",
       "      <td>СКО несмещенное ($s$)</td>\n",
       "      <td>0.9082</td>\n",
       "    </tr>\n",
       "    <tr>\n",
       "      <th>4</th>\n",
       "      <td>Медиана</td>\n",
       "      <td>-0.1270</td>\n",
       "    </tr>\n",
       "    <tr>\n",
       "      <th>5</th>\n",
       "      <td>Выборочное абсолютное отклонение (MAD)</td>\n",
       "      <td>0.7183</td>\n",
       "    </tr>\n",
       "    <tr>\n",
       "      <th>6</th>\n",
       "      <td>Q1</td>\n",
       "      <td>-0.6009</td>\n",
       "    </tr>\n",
       "    <tr>\n",
       "      <th>7</th>\n",
       "      <td>Q3</td>\n",
       "      <td>0.4060</td>\n",
       "    </tr>\n",
       "    <tr>\n",
       "      <th>8</th>\n",
       "      <td>Интерквартильная широта (IQR)</td>\n",
       "      <td>1.0069</td>\n",
       "    </tr>\n",
       "    <tr>\n",
       "      <th>9</th>\n",
       "      <td>Полусумма квартилей</td>\n",
       "      <td>-0.0975</td>\n",
       "    </tr>\n",
       "    <tr>\n",
       "      <th>10</th>\n",
       "      <td>Минимальный элемент</td>\n",
       "      <td>-2.6197</td>\n",
       "    </tr>\n",
       "    <tr>\n",
       "      <th>11</th>\n",
       "      <td>Максимальный элемент</td>\n",
       "      <td>1.8523</td>\n",
       "    </tr>\n",
       "    <tr>\n",
       "      <th>12</th>\n",
       "      <td>Размах выборки</td>\n",
       "      <td>4.4720</td>\n",
       "    </tr>\n",
       "    <tr>\n",
       "      <th>13</th>\n",
       "      <td>Полусумма экстремальных элементов</td>\n",
       "      <td>-0.3837</td>\n",
       "    </tr>\n",
       "    <tr>\n",
       "      <th>14</th>\n",
       "      <td>Асимметрия (Skewness)</td>\n",
       "      <td>-0.1753</td>\n",
       "    </tr>\n",
       "    <tr>\n",
       "      <th>15</th>\n",
       "      <td>Эксцесс (Kurtosis)</td>\n",
       "      <td>-0.1554</td>\n",
       "    </tr>\n",
       "  </tbody>\n",
       "</table>\n",
       "</div>"
      ],
      "text/plain": [
       "                                Статистика Значение\n",
       "0           Среднее выборочное ($\\bar{x}$)  -0.1038\n",
       "1         Дисперсия смещенная ($\\sigma^2$)   0.8165\n",
       "2            Дисперсия несмещенная ($s^2$)   0.8248\n",
       "3                    СКО несмещенное ($s$)   0.9082\n",
       "4                                  Медиана  -0.1270\n",
       "5   Выборочное абсолютное отклонение (MAD)   0.7183\n",
       "6                                       Q1  -0.6009\n",
       "7                                       Q3   0.4060\n",
       "8            Интерквартильная широта (IQR)   1.0069\n",
       "9                      Полусумма квартилей  -0.0975\n",
       "10                     Минимальный элемент  -2.6197\n",
       "11                    Максимальный элемент   1.8523\n",
       "12                          Размах выборки   4.4720\n",
       "13       Полусумма экстремальных элементов  -0.3837\n",
       "14                   Асимметрия (Skewness)  -0.1753\n",
       "15                      Эксцесс (Kurtosis)  -0.1554"
      ]
     },
     "metadata": {},
     "output_type": "display_data"
    },
    {
     "name": "stdout",
     "output_type": "stream",
     "text": [
      "\n",
      "================================================================================\n",
      "\n"
     ]
    },
    {
     "data": {
      "text/plain": [
       "'Выборочные статистики для Экспоненциальное'"
      ]
     },
     "metadata": {},
     "output_type": "display_data"
    },
    {
     "data": {
      "text/html": [
       "<div>\n",
       "<style scoped>\n",
       "    .dataframe tbody tr th:only-of-type {\n",
       "        vertical-align: middle;\n",
       "    }\n",
       "\n",
       "    .dataframe tbody tr th {\n",
       "        vertical-align: top;\n",
       "    }\n",
       "\n",
       "    .dataframe thead th {\n",
       "        text-align: right;\n",
       "    }\n",
       "</style>\n",
       "<table border=\"1\" class=\"dataframe\">\n",
       "  <thead>\n",
       "    <tr style=\"text-align: right;\">\n",
       "      <th></th>\n",
       "      <th>Статистика</th>\n",
       "      <th>Значение</th>\n",
       "    </tr>\n",
       "  </thead>\n",
       "  <tbody>\n",
       "    <tr>\n",
       "      <th>0</th>\n",
       "      <td>Среднее выборочное ($\\bar{x}$)</td>\n",
       "      <td>0.9400</td>\n",
       "    </tr>\n",
       "    <tr>\n",
       "      <th>1</th>\n",
       "      <td>Дисперсия смещенная ($\\sigma^2$)</td>\n",
       "      <td>0.8119</td>\n",
       "    </tr>\n",
       "    <tr>\n",
       "      <th>2</th>\n",
       "      <td>Дисперсия несмещенная ($s^2$)</td>\n",
       "      <td>0.8201</td>\n",
       "    </tr>\n",
       "    <tr>\n",
       "      <th>3</th>\n",
       "      <td>СКО несмещенное ($s$)</td>\n",
       "      <td>0.9056</td>\n",
       "    </tr>\n",
       "    <tr>\n",
       "      <th>4</th>\n",
       "      <td>Медиана</td>\n",
       "      <td>0.7081</td>\n",
       "    </tr>\n",
       "    <tr>\n",
       "      <th>5</th>\n",
       "      <td>Выборочное абсолютное отклонение (MAD)</td>\n",
       "      <td>0.6828</td>\n",
       "    </tr>\n",
       "    <tr>\n",
       "      <th>6</th>\n",
       "      <td>Q1</td>\n",
       "      <td>0.2761</td>\n",
       "    </tr>\n",
       "    <tr>\n",
       "      <th>7</th>\n",
       "      <td>Q3</td>\n",
       "      <td>1.1865</td>\n",
       "    </tr>\n",
       "    <tr>\n",
       "      <th>8</th>\n",
       "      <td>Интерквартильная широта (IQR)</td>\n",
       "      <td>0.9104</td>\n",
       "    </tr>\n",
       "    <tr>\n",
       "      <th>9</th>\n",
       "      <td>Полусумма квартилей</td>\n",
       "      <td>0.7313</td>\n",
       "    </tr>\n",
       "    <tr>\n",
       "      <th>10</th>\n",
       "      <td>Минимальный элемент</td>\n",
       "      <td>0.0051</td>\n",
       "    </tr>\n",
       "    <tr>\n",
       "      <th>11</th>\n",
       "      <td>Максимальный элемент</td>\n",
       "      <td>4.2440</td>\n",
       "    </tr>\n",
       "    <tr>\n",
       "      <th>12</th>\n",
       "      <td>Размах выборки</td>\n",
       "      <td>4.2390</td>\n",
       "    </tr>\n",
       "    <tr>\n",
       "      <th>13</th>\n",
       "      <td>Полусумма экстремальных элементов</td>\n",
       "      <td>2.1246</td>\n",
       "    </tr>\n",
       "    <tr>\n",
       "      <th>14</th>\n",
       "      <td>Асимметрия (Skewness)</td>\n",
       "      <td>1.4685</td>\n",
       "    </tr>\n",
       "    <tr>\n",
       "      <th>15</th>\n",
       "      <td>Эксцесс (Kurtosis)</td>\n",
       "      <td>1.8485</td>\n",
       "    </tr>\n",
       "  </tbody>\n",
       "</table>\n",
       "</div>"
      ],
      "text/plain": [
       "                                Статистика Значение\n",
       "0           Среднее выборочное ($\\bar{x}$)   0.9400\n",
       "1         Дисперсия смещенная ($\\sigma^2$)   0.8119\n",
       "2            Дисперсия несмещенная ($s^2$)   0.8201\n",
       "3                    СКО несмещенное ($s$)   0.9056\n",
       "4                                  Медиана   0.7081\n",
       "5   Выборочное абсолютное отклонение (MAD)   0.6828\n",
       "6                                       Q1   0.2761\n",
       "7                                       Q3   1.1865\n",
       "8            Интерквартильная широта (IQR)   0.9104\n",
       "9                      Полусумма квартилей   0.7313\n",
       "10                     Минимальный элемент   0.0051\n",
       "11                    Максимальный элемент   4.2440\n",
       "12                          Размах выборки   4.2390\n",
       "13       Полусумма экстремальных элементов   2.1246\n",
       "14                   Асимметрия (Skewness)   1.4685\n",
       "15                      Эксцесс (Kurtosis)   1.8485"
      ]
     },
     "metadata": {},
     "output_type": "display_data"
    },
    {
     "name": "stdout",
     "output_type": "stream",
     "text": [
      "\n",
      "================================================================================\n",
      "\n"
     ]
    },
    {
     "data": {
      "text/plain": [
       "'Выборочные статистики для Равномерное'"
      ]
     },
     "metadata": {},
     "output_type": "display_data"
    },
    {
     "data": {
      "text/html": [
       "<div>\n",
       "<style scoped>\n",
       "    .dataframe tbody tr th:only-of-type {\n",
       "        vertical-align: middle;\n",
       "    }\n",
       "\n",
       "    .dataframe tbody tr th {\n",
       "        vertical-align: top;\n",
       "    }\n",
       "\n",
       "    .dataframe thead th {\n",
       "        text-align: right;\n",
       "    }\n",
       "</style>\n",
       "<table border=\"1\" class=\"dataframe\">\n",
       "  <thead>\n",
       "    <tr style=\"text-align: right;\">\n",
       "      <th></th>\n",
       "      <th>Статистика</th>\n",
       "      <th>Значение</th>\n",
       "    </tr>\n",
       "  </thead>\n",
       "  <tbody>\n",
       "    <tr>\n",
       "      <th>0</th>\n",
       "      <td>Среднее выборочное ($\\bar{x}$)</td>\n",
       "      <td>5.2829</td>\n",
       "    </tr>\n",
       "    <tr>\n",
       "      <th>1</th>\n",
       "      <td>Дисперсия смещенная ($\\sigma^2$)</td>\n",
       "      <td>8.1941</td>\n",
       "    </tr>\n",
       "    <tr>\n",
       "      <th>2</th>\n",
       "      <td>Дисперсия несмещенная ($s^2$)</td>\n",
       "      <td>8.2769</td>\n",
       "    </tr>\n",
       "    <tr>\n",
       "      <th>3</th>\n",
       "      <td>СКО несмещенное ($s$)</td>\n",
       "      <td>2.8770</td>\n",
       "    </tr>\n",
       "    <tr>\n",
       "      <th>4</th>\n",
       "      <td>Медиана</td>\n",
       "      <td>5.4594</td>\n",
       "    </tr>\n",
       "    <tr>\n",
       "      <th>5</th>\n",
       "      <td>Выборочное абсолютное отклонение (MAD)</td>\n",
       "      <td>2.4282</td>\n",
       "    </tr>\n",
       "    <tr>\n",
       "      <th>6</th>\n",
       "      <td>Q1</td>\n",
       "      <td>2.9183</td>\n",
       "    </tr>\n",
       "    <tr>\n",
       "      <th>7</th>\n",
       "      <td>Q3</td>\n",
       "      <td>7.7620</td>\n",
       "    </tr>\n",
       "    <tr>\n",
       "      <th>8</th>\n",
       "      <td>Интерквартильная широта (IQR)</td>\n",
       "      <td>4.8437</td>\n",
       "    </tr>\n",
       "    <tr>\n",
       "      <th>9</th>\n",
       "      <td>Полусумма квартилей</td>\n",
       "      <td>5.3401</td>\n",
       "    </tr>\n",
       "    <tr>\n",
       "      <th>10</th>\n",
       "      <td>Минимальный элемент</td>\n",
       "      <td>0.1546</td>\n",
       "    </tr>\n",
       "    <tr>\n",
       "      <th>11</th>\n",
       "      <td>Максимальный элемент</td>\n",
       "      <td>9.9005</td>\n",
       "    </tr>\n",
       "    <tr>\n",
       "      <th>12</th>\n",
       "      <td>Размах выборки</td>\n",
       "      <td>9.7460</td>\n",
       "    </tr>\n",
       "    <tr>\n",
       "      <th>13</th>\n",
       "      <td>Полусумма экстремальных элементов</td>\n",
       "      <td>5.0276</td>\n",
       "    </tr>\n",
       "    <tr>\n",
       "      <th>14</th>\n",
       "      <td>Асимметрия (Skewness)</td>\n",
       "      <td>-0.1649</td>\n",
       "    </tr>\n",
       "    <tr>\n",
       "      <th>15</th>\n",
       "      <td>Эксцесс (Kurtosis)</td>\n",
       "      <td>-1.0987</td>\n",
       "    </tr>\n",
       "  </tbody>\n",
       "</table>\n",
       "</div>"
      ],
      "text/plain": [
       "                                Статистика Значение\n",
       "0           Среднее выборочное ($\\bar{x}$)   5.2829\n",
       "1         Дисперсия смещенная ($\\sigma^2$)   8.1941\n",
       "2            Дисперсия несмещенная ($s^2$)   8.2769\n",
       "3                    СКО несмещенное ($s$)   2.8770\n",
       "4                                  Медиана   5.4594\n",
       "5   Выборочное абсолютное отклонение (MAD)   2.4282\n",
       "6                                       Q1   2.9183\n",
       "7                                       Q3   7.7620\n",
       "8            Интерквартильная широта (IQR)   4.8437\n",
       "9                      Полусумма квартилей   5.3401\n",
       "10                     Минимальный элемент   0.1546\n",
       "11                    Максимальный элемент   9.9005\n",
       "12                          Размах выборки   9.7460\n",
       "13       Полусумма экстремальных элементов   5.0276\n",
       "14                   Асимметрия (Skewness)  -0.1649\n",
       "15                      Эксцесс (Kurtosis)  -1.0987"
      ]
     },
     "metadata": {},
     "output_type": "display_data"
    },
    {
     "name": "stdout",
     "output_type": "stream",
     "text": [
      "\n",
      "================================================================================\n",
      "\n"
     ]
    }
   ],
   "source": [
    "# Список распределений для итерации\n",
    "distributions = {\n",
    "    \"Нормальное\": normal,\n",
    "    \"Экспоненциальное\": exponential,\n",
    "    \"Равномерное\": uniform\n",
    "}\n",
    "\n",
    "# --- Функция для расчета всех метрик ---\n",
    "def calculate_sample_statistics(data):\n",
    "    N = len(data)\n",
    "\n",
    "    # 3.1. Среднее выборочное (Mean)\n",
    "    mean = np.mean(data)\n",
    "\n",
    "    # 3.2. Выборочная дисперсия\n",
    "    variance_biased = np.var(data)  # Смещенная (N)\n",
    "    variance_unbiased = np.var(data, ddof=1)  # Несмещенная (N-1)\n",
    "\n",
    "    # 3.3. Выборочное СКО (Standard Deviation)\n",
    "    std_dev_unbiased = np.std(data, ddof=1) # Несмещенное СКО\n",
    "\n",
    "    # 3.4. Медиана (Median)\n",
    "    median = np.median(data)\n",
    "\n",
    "    # 3.5. Выборочное абсолютное отклонение (Mean Absolute Deviation, MAD)\n",
    "    mad = np.mean(np.abs(data - mean))\n",
    "\n",
    "    # 3.6. Квартили (Q1, Q2, Q3)\n",
    "    Q1 = np.percentile(data, 25)\n",
    "    Q2 = median\n",
    "    Q3 = np.percentile(data, 75)\n",
    "\n",
    "    # 3.7. Интерквартильная широта (IQR)\n",
    "    iqr = Q3 - Q1\n",
    "\n",
    "    # 3.8. Полусумма выборочных квартилей\n",
    "    semi_sum_quartiles = (Q1 + Q3) / 2\n",
    "\n",
    "    # 3.9. Экстремальные элементы\n",
    "    min_val = np.min(data)\n",
    "    max_val = np.max(data)\n",
    "\n",
    "    # 3.10. Размах выборки (Range)\n",
    "    sample_range = max_val - min_val\n",
    "\n",
    "    # 3.11. Полусумма экстремальных элементов\n",
    "    semi_sum_extremes = (min_val + max_val) / 2\n",
    "\n",
    "    # 3.12. Выборочная оценка асимметрии (Skewness)\n",
    "    # Используем несмещенную оценку (по умолчанию в scipy)\n",
    "    skewness = stats.skew(data)\n",
    "\n",
    "    # 3.13. Выборочная оценка эксцесса (Excess Kurtosis)\n",
    "    # Используем несмещенную оценку (по умолчанию в scipy)\n",
    "    # Эксцесс = Курт. - 3 (для нормального распределения = 0)\n",
    "    kurtosis = stats.kurtosis(data)\n",
    "\n",
    "    return {\n",
    "        \"Среднее выборочное ($\\\\bar{x}$)\": f\"{mean:.4f}\",\n",
    "        \"Дисперсия смещенная ($\\\\sigma^2$)\": f\"{variance_biased:.4f}\",\n",
    "        \"Дисперсия несмещенная ($s^2$)\": f\"{variance_unbiased:.4f}\",\n",
    "        \"СКО несмещенное ($s$)\": f\"{std_dev_unbiased:.4f}\",\n",
    "        \"Медиана\": f\"{median:.4f}\",\n",
    "        \"Выборочное абсолютное отклонение (MAD)\": f\"{mad:.4f}\",\n",
    "        \"Q1\": f\"{Q1:.4f}\",\n",
    "        \"Q3\": f\"{Q3:.4f}\",\n",
    "        \"Интерквартильная широта (IQR)\": f\"{iqr:.4f}\",\n",
    "        \"Полусумма квартилей\": f\"{semi_sum_quartiles:.4f}\",\n",
    "        \"Минимальный элемент\": f\"{min_val:.4f}\",\n",
    "        \"Максимальный элемент\": f\"{max_val:.4f}\",\n",
    "        \"Размах выборки\": f\"{sample_range:.4f}\",\n",
    "        \"Полусумма экстремальных элементов\": f\"{semi_sum_extremes:.4f}\",\n",
    "        \"Асимметрия (Skewness)\": f\"{skewness:.4f}\",\n",
    "        \"Эксцесс (Kurtosis)\": f\"{kurtosis:.4f}\",\n",
    "    }\n",
    "\n",
    "\n",
    "for name, data in distributions.items():\n",
    "    results = calculate_sample_statistics(data)\n",
    "    \n",
    "    # Создание DataFrame для удобного вывода в Jupyter\n",
    "    df_results = pd.DataFrame(\n",
    "        list(results.items()), \n",
    "        columns=['Статистика', 'Значение']\n",
    "    )\n",
    "    display(f\"Выборочные статистики для {name}\")\n",
    "    display(df_results)\n",
    "    print(\"\\n\" + \"=\"*80 + \"\\n\")"
   ]
  },
  {
   "cell_type": "markdown",
   "id": "fb0fa1f7-78f8-40bc-b995-88976adf889a",
   "metadata": {},
   "source": [
    "Ключевые выводы по расчётам:\n",
    "1) Нормальное распределение - Асимметрия и эксцесс близки к нулю, что соответствует симметричной форме колокола. Среднее, медиана и полусуммы экстремальных элементов/квартилей близки к центру (0).\n",
    "\n",
    "2) Экспоненциальное распределение - Асимметрия положительна — это отражает \"хвост\" распределения, растянутый вправо (большинство значений сосредоточены у 0). Среднее больше медианы, что также является признаком правосторонней скошенности.\n",
    "\n",
    "3) Равномерное распределение - Асимметрия близка к нулю (распределение симметрично). Эксцесс отрицателен — это характерно для распределений, у которых \"тяжелее плечи\" и \"легче центр\" по сравнению с нормальным распределением (форма прямоугольника). Разница между максимальным и минимальным значением (размах) близка к теоретическому интервалу (10−0=10)."
   ]
  },
  {
   "cell_type": "markdown",
   "id": "1fa0b5f3-d5a9-4396-a065-8e537169852a",
   "metadata": {},
   "source": [
    "___\n",
    "## 4. Анализ полученных данных\n",
    "___"
   ]
  },
  {
   "cell_type": "code",
   "execution_count": 25,
   "id": "678e192b-b49b-4bd3-aaf4-9310d9588056",
   "metadata": {},
   "outputs": [
    {
     "data": {
      "text/plain": [
       "'Анализ отклонений точечных оценок (4.1 и 4.2)'"
      ]
     },
     "metadata": {},
     "output_type": "display_data"
    },
    {
     "data": {
      "text/html": [
       "<div>\n",
       "<style scoped>\n",
       "    .dataframe tbody tr th:only-of-type {\n",
       "        vertical-align: middle;\n",
       "    }\n",
       "\n",
       "    .dataframe tbody tr th {\n",
       "        vertical-align: top;\n",
       "    }\n",
       "\n",
       "    .dataframe thead th {\n",
       "        text-align: right;\n",
       "    }\n",
       "</style>\n",
       "<table border=\"1\" class=\"dataframe\">\n",
       "  <thead>\n",
       "    <tr style=\"text-align: right;\">\n",
       "      <th></th>\n",
       "      <th>Среднее выборочное (x̄)</th>\n",
       "      <th>Медиана (Me)</th>\n",
       "      <th>СКО несмещенное (s)</th>\n",
       "      <th>Половина IQR (IQR/2)</th>\n",
       "      <th>4.1. |x̄ - Me|</th>\n",
       "      <th>4.2. |s - IQR/2|</th>\n",
       "    </tr>\n",
       "    <tr>\n",
       "      <th>Распределение</th>\n",
       "      <th></th>\n",
       "      <th></th>\n",
       "      <th></th>\n",
       "      <th></th>\n",
       "      <th></th>\n",
       "      <th></th>\n",
       "    </tr>\n",
       "  </thead>\n",
       "  <tbody>\n",
       "    <tr>\n",
       "      <th>Нормальное</th>\n",
       "      <td>-0.1038</td>\n",
       "      <td>-0.1270</td>\n",
       "      <td>0.9082</td>\n",
       "      <td>0.5034</td>\n",
       "      <td>0.0231</td>\n",
       "      <td>0.4047</td>\n",
       "    </tr>\n",
       "    <tr>\n",
       "      <th>Экспоненциальное</th>\n",
       "      <td>0.9400</td>\n",
       "      <td>0.7081</td>\n",
       "      <td>0.9056</td>\n",
       "      <td>0.4552</td>\n",
       "      <td>0.2319</td>\n",
       "      <td>0.4504</td>\n",
       "    </tr>\n",
       "    <tr>\n",
       "      <th>Равномерное</th>\n",
       "      <td>5.2829</td>\n",
       "      <td>5.4594</td>\n",
       "      <td>2.8770</td>\n",
       "      <td>2.4218</td>\n",
       "      <td>0.1764</td>\n",
       "      <td>0.4551</td>\n",
       "    </tr>\n",
       "  </tbody>\n",
       "</table>\n",
       "</div>"
      ],
      "text/plain": [
       "                 Среднее выборочное (x̄) Медиана (Me) СКО несмещенное (s)  \\\n",
       "Распределение                                                               \n",
       "Нормальное                       -0.1038      -0.1270              0.9082   \n",
       "Экспоненциальное                  0.9400       0.7081              0.9056   \n",
       "Равномерное                       5.2829       5.4594              2.8770   \n",
       "\n",
       "                 Половина IQR (IQR/2) 4.1. |x̄ - Me| 4.2. |s - IQR/2|  \n",
       "Распределение                                                          \n",
       "Нормальное                     0.5034         0.0231           0.4047  \n",
       "Экспоненциальное               0.4552         0.2319           0.4504  \n",
       "Равномерное                    2.4218         0.1764           0.4551  "
      ]
     },
     "metadata": {},
     "output_type": "display_data"
    },
    {
     "name": "stdout",
     "output_type": "stream",
     "text": [
      "\n",
      "================================================================================\n",
      "\n"
     ]
    },
    {
     "data": {
      "text/plain": [
       "'4.3. Оценка отклонения эмпирической плотности от теоретической'"
      ]
     },
     "metadata": {},
     "output_type": "display_data"
    },
    {
     "data": {
      "image/png": "[encoded data removed]",
      "text/plain": [
       "<Figure size 1800x500 with 3 Axes>"
      ]
     },
     "metadata": {},
     "output_type": "display_data"
    },
    {
     "name": "stdout",
     "output_type": "stream",
     "text": [
      "\n",
      "================================================================================\n",
      "\n"
     ]
    },
    {
     "data": {
      "text/plain": [
       "'4.4. Нанесение точечных оценок среднего на числовую линию'"
      ]
     },
     "metadata": {},
     "output_type": "display_data"
    },
    {
     "data": {
      "image/png": "[encoded data removed]",
      "text/plain": [
       "<Figure size 1800x300 with 3 Axes>"
      ]
     },
     "metadata": {},
     "output_type": "display_data"
    }
   ],
   "source": [
    "# --- Расчет базовых метрик для анализа ---\n",
    "def calculate_metrics_for_analysis(data):\n",
    "    mean = np.mean(data)\n",
    "    median = np.median(data)\n",
    "    std_dev_unbiased = np.std(data, ddof=1)\n",
    "    Q1 = np.percentile(data, 25)\n",
    "    Q3 = np.percentile(data, 75)\n",
    "    iqr = Q3 - Q1\n",
    "    \n",
    "    return mean, median, std_dev_unbiased, iqr, Q1, Q3\n",
    "\n",
    "# --- 4.1. и 4.2. Расчет отклонений ---\n",
    "analysis_results = {}\n",
    "for name, data in distributions.items():\n",
    "    mean, median, std_dev, iqr, Q1, Q3 = calculate_metrics_for_analysis(data)\n",
    "    \n",
    "    # 4.1. Абсолютное отклонение среднего от медианы: |x̄ - Me|\n",
    "    dev_mean_median = np.abs(mean - median)\n",
    "    \n",
    "    # 4.2. Абсолютное отклонение СКО от половины IQR: |s - (IQR / 2)|\n",
    "    dev_std_iqr = np.abs(std_dev - (iqr / 2))\n",
    "    \n",
    "    analysis_results[name] = {\n",
    "        \"Среднее выборочное (x̄)\": f\"{mean:.4f}\",\n",
    "        \"Медиана (Me)\": f\"{median:.4f}\",\n",
    "        \"СКО несмещенное (s)\": f\"{std_dev:.4f}\",\n",
    "        \"Половина IQR (IQR/2)\": f\"{iqr / 2:.4f}\",\n",
    "        \"4.1. |x̄ - Me|\": f\"{dev_mean_median:.4f}\",\n",
    "        \"4.2. |s - IQR/2|\": f\"{dev_std_iqr:.4f}\"\n",
    "    }\n",
    "\n",
    "df_analysis = pd.DataFrame.from_dict(analysis_results, orient='index')\n",
    "df_analysis.index.name = \"Распределение\"\n",
    "\n",
    "display(\"Анализ отклонений точечных оценок (4.1 и 4.2)\")\n",
    "display(df_analysis)\n",
    "\n",
    "print(\"\\n\" + \"=\"*80 + \"\\n\")\n",
    "\n",
    "# --- 4.3. Оценка отклонения эмпирической плотности от теоретической ---\n",
    "display(\"4.3. Оценка отклонения эмпирической плотности от теоретической\")\n",
    "\n",
    "# Создаем график, аналогичный предыдущему, но с акцентом на сравнении\n",
    "fig, axes = plt.subplots(1, 3, figsize=(18, 5))\n",
    "\n",
    "# Функция для вывода названия модели\n",
    "def get_model_name(name):\n",
    "    if 'Нормальное' in name: return 'Теоретическая плотность: Нормальное'\n",
    "    if 'Экспоненциальное' in name: return 'Теоретическая плотность: Экспоненциальное'\n",
    "    if 'Равномерное' in name: return 'Теоретическая плотность: Равномерное'\n",
    "\n",
    "# Построение графиков\n",
    "for ax_idx, (name, data) in enumerate(distributions.items()):\n",
    "    ax = axes[ax_idx]\n",
    "    \n",
    "    # Эмпирическая плотность (Гистограмма)\n",
    "    ax.hist(data, bins='auto', density=True, alpha=0.6, label='Эмпирическая плотность')\n",
    "    \n",
    "    # Теоретическая плотность (Линия)\n",
    "    if 'Нормальное' in name:\n",
    "        x_plot = np.sort(data)\n",
    "        pdf = stats.norm.pdf(x_plot, np.mean(data), np.std(data))\n",
    "        ax.plot(x_plot, pdf, 'r-', label=get_model_name(name))\n",
    "        \n",
    "    elif 'Экспоненциальное' in name:\n",
    "        x_plot = np.sort(data)\n",
    "        pdf = stats.expon.pdf(x_plot, scale=1/np.mean(data))\n",
    "        ax.plot(x_plot, pdf, 'r-', label=get_model_name(name))\n",
    "        \n",
    "    elif 'Равномерное' in name:\n",
    "        y_const = 1 / 10 # 1/(10-0)\n",
    "        ax.axhline(y=y_const, color='red', linestyle='-', label=get_model_name(name))\n",
    "\n",
    "    ax.set_title(name, fontsize=14)\n",
    "    ax.set_xlabel('Значение')\n",
    "    ax.set_ylabel('Плотность')\n",
    "    ax.legend(loc='upper right')\n",
    "\n",
    "plt.tight_layout()\n",
    "plt.show()\n",
    "\n",
    "print(\"\\n\" + \"=\"*80 + \"\\n\")\n",
    "\n",
    "# --- 4.4. Нанесение на линию различных точечных оценок среднего ---\n",
    "display(\"4.4. Нанесение точечных оценок среднего на числовую линию\")\n",
    "\n",
    "fig, axes = plt.subplots(1, 3, figsize=(18, 3))\n",
    "\n",
    "# Список оценок для отображения\n",
    "mean_estimators = ['Среднее (x̄)', 'Медиана (Me)', 'Полусумма квартилей', 'Полусумма экстремумов']\n",
    "markers = ['o', 's', '^', 'D'] # Круг, Квадрат, Треугольник, Ромб\n",
    "\n",
    "for ax_idx, (name, data) in enumerate(distributions.items()):\n",
    "    ax = axes[ax_idx]\n",
    "    \n",
    "    mean, median, std_dev, iqr, Q1, Q3 = calculate_metrics_for_analysis(data)\n",
    "    min_val = np.min(data)\n",
    "    max_val = np.max(data)\n",
    "    \n",
    "    # Расчет оценок\n",
    "    estimates = [\n",
    "        mean, \n",
    "        median, \n",
    "        (Q1 + Q3) / 2, \n",
    "        (min_val + max_val) / 2\n",
    "    ]\n",
    "    \n",
    "    # Строим линию распределения (для контекста)\n",
    "    x_range = np.linspace(np.min(data), np.max(data), 100)\n",
    "    \n",
    "    # Визуализация - просто числовая линия\n",
    "    ax.plot(x_range, np.zeros_like(x_range), color='gray', linestyle='-')\n",
    "\n",
    "    # Нанесение точек\n",
    "    for i, (est_name, est_value) in enumerate(zip(mean_estimators, estimates)):\n",
    "        ax.plot(est_value, 0, marker=markers[i], markersize=8, label=est_name, alpha=0.8, linestyle='')\n",
    "        \n",
    "    ax.set_title(f'Оценки среднего для {name}', fontsize=12)\n",
    "    ax.set_yticks([]) # Убираем ось Y, т.к. это числовая линия\n",
    "    ax.legend(loc='upper right', fontsize=8)\n",
    "    ax.grid(axis='x', linestyle='--')\n",
    "    ax.set_xlim(min_val - std_dev, max_val + std_dev) # Диапазон для удобства\n",
    "\n",
    "plt.tight_layout()\n",
    "plt.show()"
   ]
  },
  {
   "cell_type": "markdown",
   "id": "1b0088c3-8925-491b-b048-6dd12c37ce84",
   "metadata": {},
   "source": [
    "**4.1. Абсолютное отклонение выборочного среднего от медианы**\n",
    "<br>Эта метрика измеряет степень асимметрии (скошенности) распределения. В идеально симметричном распределении (как Нормальное или Равномерное), среднее (xˉ) и медиана (Me) должны совпадать, и отклонение должно быть близко к нулю.\n",
    "1) Нормальное | 0.0231  - Очень малое отклонение. Подтверждает, что выборочное распределение симметрично, как и теоретическое N(0,1).\n",
    "2) Экспоненциальное | 0.2319 - Значительное отклонение. Подтверждает положительную асимметрию (скошенность вправо). Среднее  xˉ (0.9400) больше медианы Me(0.7081), поскольку экстремально большие значения \"тянут\" среднее.\n",
    "3) Равномерное | 0.1764 - Умеренное отклонение. Теоретически должно быть 0, но из-за случайности выборки отклонение выше, чем у Нормального. Тем не менее, это отклонение меньше, чем у Экспоненциального."
   ]
  },
  {
   "cell_type": "markdown",
   "id": "86376bda-6e76-4366-8cdb-010bb15a6bc8",
   "metadata": {},
   "source": [
    "**4.2. Абсолютное отклонение выборочного СКО от половины интерквартильной широты (∣s−IQR/2∣)**\n",
    "Эта метрика сравнивает две разные оценки разброса (изменчивости) данных:\n",
    "1) s (СКО несмещенное): Основано на всех данных, чувствительно к выбросам.\n",
    "2) IQR/2 (Полусумма IQR): Основано только на центральных 50% данных (между Q1 и Q3), устойчиво к выбросам.\n",
    "Пояснение к значениям распределений:\n",
    "1) Нормальное | 0.9082 | 0.5034 | 0.4047 | **Значительное различие**. Это ожидаемо для нормального распределения. Здесь СКО (0.9082) почти в два раза больше половины IQR (0.5034), что соответствует теоретической связи, показывая, что хвосты распределения важны.\n",
    "2) Экспоненциальное | 0.9056 | 0.4552 | 0.4504 | **Значительное различие**. Разброс схож с Нормальным, но половина IQR меньше из-за сильной асимметрии, концентрирующей медианные данные у нуля.\n",
    "3) Равномерное | 2.8770 | 2.4218 | 0.4551 | **Минимальное относительное различие**. Это означает, что для равномерного распределения, меры разброса, основанные на всех данных (s), и меры, основанные на центральных данных (IQR/2), ближе друг к другу, чем для нормального или экспоненциального."
   ]
  },
  {
   "cell_type": "markdown",
   "id": "f7f27de0-d308-4f17-950a-8dda0840c6ff",
   "metadata": {},
   "source": [
    "**4.3 Оценка отклонения:**\n",
    "1) Нормальное: Эмпирическая гистограмма хорошо аппроксимирует теоретическую кривую (красную линию), что ожидаемо для крупной выборки из нормального распределения. Отклонения минимальны.\n",
    "2) Экспоненциальное: Отклонение заметно: эмпирическая гистограмма не так гладко спадает, как теоретическая линия. Это связано с малым размером выборки (N=100), что приводит к более ступенчатой форме гистограммы.\n",
    "3) Равномерное: Отклонение значительное. Эмпирические столбцы сильно колеблются вокруг теоретической горизонтальной линии. В идеале все столбцы должны быть на уровне y=0.1, но из-за случайности выборки они выше или ниже."
   ]
  },
  {
   "cell_type": "markdown",
   "id": "1eb8a3a9-c4b6-4f19-b7b6-6b4e9d389e67",
   "metadata": {},
   "source": [
    "**4.4 Анализ точечных оценок среднего:**\n",
    "* **Нормальное:** Все четыре оценки (Среднее, Медиана, Полусумма квартилей и Полусумма экстремумов) **находятся очень близко друг к другу**, что подтверждает идеальную симметричность распределения.\n",
    "* **Экспоненциальное:** Оценки **сильно разнесены**. Медиана и Полусумма квартилей находятся левее (ближе к нулю), а Среднее и особенно Полусумма экстремумов — правее. Это явное следствие **положительной асимметрии** (длинного хвоста вправо).\n",
    "* **Равномерное:** Все оценки **сгруппированы** в центре интервала, близко к теоретическому среднему (5.0), что также отражает симметричность распределения."
   ]
  },
  {
   "cell_type": "markdown",
   "id": "5dfe317d-5864-4f03-ba1b-eb5f0fd33c2a",
   "metadata": {},
   "source": [
    "___\n",
    "## Вывод\n",
    "___"
   ]
  },
  {
   "cell_type": "markdown",
   "id": "1ea9f0c1-cfb9-4d94-9817-2101e6080ac4",
   "metadata": {},
   "source": [
    "**Проведенный анализ трех выборок (Нормального, Экспоненциального и Равномерного распределений) подтвердил, что **выборочные статистики точно отражают теоретические свойства** каждого типа. Нормальное распределение показало себя как **идеально симметричное** с минимальным отклонением среднего от медианы и высокой согласованностью оценок центра. Экспоненциальное распределение, напротив, продемонстрировало **явную положительную асимметрию**, где среднее было заметно \"оттянуто\" вправо относительно медианы и других оценок центра. Равномерное распределение оказалось **симметричным**, но при этом его меры разброса (СКО и полу-IQR) были ближе друг к другу по сравнению с Нормальным, а эмпирическая плотность показала наибольшие колебания вокруг теоретической горизонтальной линии из-за природы случайности выборки. В целом, работа подтвердила, что медиана является более **устойчивой** оценкой центра для асимметричных данных.**"
   ]
  },
  {
   "cell_type": "markdown",
   "id": "19601ee7-b66c-4b30-b799-68ce0f9f4d0d",
   "metadata": {},
   "source": [
    "___\n",
    "# Практика №2\n",
    "___"
   ]
  },
  {
   "cell_type": "markdown",
   "id": "1604370b-c78f-40d4-923c-e2fa496ea7f1",
   "metadata": {},
   "source": [
    "## 1. Построение интервальной оценки\n",
    "___"
   ]
  },
  {
   "cell_type": "code",
   "execution_count": 31,
   "id": "a3645082-b6f0-4b12-8f91-c7694c4979c8",
   "metadata": {},
   "outputs": [
    {
     "data": {
      "text/plain": [
       "'1. Интервальные оценки (Доверительный уровень 95%)'"
      ]
     },
     "metadata": {},
     "output_type": "display_data"
    },
    {
     "data": {
      "text/html": [
       "<div>\n",
       "<style scoped>\n",
       "    .dataframe tbody tr th:only-of-type {\n",
       "        vertical-align: middle;\n",
       "    }\n",
       "\n",
       "    .dataframe tbody tr th {\n",
       "        vertical-align: top;\n",
       "    }\n",
       "\n",
       "    .dataframe thead th {\n",
       "        text-align: right;\n",
       "    }\n",
       "</style>\n",
       "<table border=\"1\" class=\"dataframe\">\n",
       "  <thead>\n",
       "    <tr style=\"text-align: right;\">\n",
       "      <th></th>\n",
       "      <th>Распределение</th>\n",
       "      <th>x̄ (выборочное среднее)</th>\n",
       "      <th>s (СКО несмещенное)</th>\n",
       "      <th>$\\mu$ (Нижняя граница)</th>\n",
       "      <th>$\\mu$ (Верхняя граница)</th>\n",
       "      <th>$\\sigma$ (Нижняя граница)</th>\n",
       "      <th>$\\sigma$ (Верхняя граница)</th>\n",
       "    </tr>\n",
       "  </thead>\n",
       "  <tbody>\n",
       "    <tr>\n",
       "      <th>0</th>\n",
       "      <td>Нормальное</td>\n",
       "      <td>-0.1038</td>\n",
       "      <td>0.9082</td>\n",
       "      <td>-0.2840</td>\n",
       "      <td>0.0764</td>\n",
       "      <td>0.7974</td>\n",
       "      <td>1.0550</td>\n",
       "    </tr>\n",
       "    <tr>\n",
       "      <th>1</th>\n",
       "      <td>Экспоненциальное</td>\n",
       "      <td>0.9400</td>\n",
       "      <td>0.9056</td>\n",
       "      <td>0.7603</td>\n",
       "      <td>1.1197</td>\n",
       "      <td>0.7951</td>\n",
       "      <td>1.0520</td>\n",
       "    </tr>\n",
       "    <tr>\n",
       "      <th>2</th>\n",
       "      <td>Равномерное</td>\n",
       "      <td>5.2829</td>\n",
       "      <td>2.8770</td>\n",
       "      <td>4.7121</td>\n",
       "      <td>5.8538</td>\n",
       "      <td>2.5260</td>\n",
       "      <td>3.3421</td>\n",
       "    </tr>\n",
       "  </tbody>\n",
       "</table>\n",
       "</div>"
      ],
      "text/plain": [
       "      Распределение x̄ (выборочное среднее) s (СКО несмещенное)  \\\n",
       "0        Нормальное                 -0.1038              0.9082   \n",
       "1  Экспоненциальное                  0.9400              0.9056   \n",
       "2       Равномерное                  5.2829              2.8770   \n",
       "\n",
       "  $\\mu$ (Нижняя граница) $\\mu$ (Верхняя граница) $\\sigma$ (Нижняя граница)  \\\n",
       "0                -0.2840                  0.0764                    0.7974   \n",
       "1                 0.7603                  1.1197                    0.7951   \n",
       "2                 4.7121                  5.8538                    2.5260   \n",
       "\n",
       "  $\\sigma$ (Верхняя граница)  \n",
       "0                     1.0550  \n",
       "1                     1.0520  \n",
       "2                     3.3421  "
      ]
     },
     "metadata": {},
     "output_type": "display_data"
    }
   ],
   "source": [
    "N = 100\n",
    "\n",
    "alpha = 0.05  # Уровень значимости\n",
    "gamma = 1 - alpha # Доверительная вероятность (95%)\n",
    "degrees_of_freedom = N - 1 # Степени свободы\n",
    "\n",
    "# Квантиль Стьюдента для N-1=99 степеней свободы\n",
    "t_quantile = stats.t.ppf(1 - alpha / 2, degrees_of_freedom)\n",
    "\n",
    "# Квантили хи-квадрат\n",
    "chi2_low = stats.chi2.ppf(alpha / 2, degrees_of_freedom)\n",
    "chi2_high = stats.chi2.ppf(1 - alpha / 2, degrees_of_freedom)\n",
    "\n",
    "# Таблица для результатов\n",
    "results_data = []\n",
    "\n",
    "for name, data in distributions.items():\n",
    "    x_bar = np.mean(data)\n",
    "    s = np.std(data, ddof=1) # Несмещенное СКО\n",
    "    \n",
    "    # 1.1. Интервальная оценка математического ожидания (Мат. ожидание, μ)\n",
    "    error_mu = t_quantile * (s / np.sqrt(N))\n",
    "    mu_lower = x_bar - error_mu\n",
    "    mu_upper = x_bar + error_mu\n",
    "    \n",
    "    # 1.2. Интервальная оценка среднего квадратичного отклонения (СКО, σ)\n",
    "    sigma_lower = s * np.sqrt(degrees_of_freedom / chi2_high)\n",
    "    sigma_upper = s * np.sqrt(degrees_of_freedom / chi2_low)\n",
    "    \n",
    "    results_data.append({\n",
    "        \"Распределение\": name,\n",
    "        \"x̄ (выборочное среднее)\": f\"{x_bar:.4f}\",\n",
    "        \"s (СКО несмещенное)\": f\"{s:.4f}\",\n",
    "        # ИСПРАВЛЕНИЕ: Добавлен префикс 'r' для сырой строки\n",
    "        r\"$\\mu$ (Нижняя граница)\": f\"{mu_lower:.4f}\",\n",
    "        r\"$\\mu$ (Верхняя граница)\": f\"{mu_upper:.4f}\",\n",
    "        r\"$\\sigma$ (Нижняя граница)\": f\"{sigma_lower:.4f}\",\n",
    "        r\"$\\sigma$ (Верхняя граница)\": f\"{sigma_upper:.4f}\",\n",
    "    })\n",
    "\n",
    "df_results = pd.DataFrame(results_data)\n",
    "\n",
    "display(\"1. Интервальные оценки (Доверительный уровень 95%)\")\n",
    "display(df_results)"
   ]
  },
  {
   "cell_type": "markdown",
   "id": "2b4c9303-d9c5-4c65-b6f9-d713def23f4b",
   "metadata": {},
   "source": [
    "**Интервальная оценка генерального математического ожидания (μ) Формула:  xˉ:**\n",
    "Эта оценка показывает диапазон, в котором с вероятностью 95% находится истинное среднее значение генеральной совокупности.\n",
    "1) Нормальное: Интервал [−0.2840;0.0764] содержит истинное μ=0. Интервал очень узкий, что говорит о высокой точности оценки среднего.\n",
    "\n",
    "2) Экспоненциальное: Интервал [0.7603;1.1197] содержит истинное μ=1. Интервал также достаточно узкий и подтверждает, что среднее время ожидания равно 1.\n",
    "\n",
    "3) Равномерное: Интервал [4.7121;5.8538] содержит истинное μ=5.\n",
    "\n",
    "**Интервальная оценка генерального среднего квадратичного отклонения (σ)**\n",
    "\n",
    "Эта оценка показывает диапазон, в котором с вероятностью 95% находится истинный разброс генеральной совокупности.\n",
    "\n",
    "1) Нормальное: Интервал [0.7974;1.0550] содержит истинное σ=1.\n",
    "\n",
    "2) Экспоненциальное: Интервал [0.7951;1.0520]. Теоретическое σ для экспоненциального распределения с μ=1 также равно 1. Интервал содержит 1.\n",
    "\n",
    "3) Равномерное: Интервал [2.5260;3.3421]. Теоретическое σ для U[0,10] равно 12"
   ]
  },
  {
   "cell_type": "markdown",
   "id": "52df87aa-819c-48f2-9f62-dc8f7a9ead73",
   "metadata": {},
   "source": [
    "___\n",
    "## 2. Проверка с помощью Критерия Хи-квадрат\n",
    "___"
   ]
  },
  {
   "cell_type": "code",
   "execution_count": 39,
   "id": "fb08a40f-6f93-4f3a-8e7a-97afb15a6428",
   "metadata": {},
   "outputs": [
    {
     "data": {
      "text/markdown": [
       "### 2.1. Проверка: Нормальное распределение"
      ],
      "text/plain": [
       "<IPython.core.display.Markdown object>"
      ]
     },
     "metadata": {},
     "output_type": "display_data"
    },
    {
     "name": "stdout",
     "output_type": "stream",
     "text": [
      "Статистика χ²_набл: 4.3805\n",
      "Степени свободы (df): 7\n",
      "Критическое значение χ²_крит (α=0.05): 14.0671\n",
      "P-value: 0.7351\n",
      "\n",
      "Вывод: Гипотеза H₀ (о нормальном распределении) не отвергается.\n",
      "\n",
      "================================================================================\n",
      "\n"
     ]
    },
    {
     "data": {
      "text/markdown": [
       "### 2.2. Проверка: Экспоненциальное распределение"
      ],
      "text/plain": [
       "<IPython.core.display.Markdown object>"
      ]
     },
     "metadata": {},
     "output_type": "display_data"
    },
    {
     "name": "stdout",
     "output_type": "stream",
     "text": [
      "Статистика χ²_набл: nan\n",
      "Степени свободы (df): 8\n",
      "Критическое значение χ²_крит (α=0.05): 15.5073\n",
      "P-value: nan\n",
      "\n",
      "Вывод: Гипотеза H₀ отвергается.\n",
      "\n",
      "================================================================================\n",
      "\n"
     ]
    }
   ],
   "source": [
    "import numpy as np\n",
    "from scipy import stats\n",
    "from IPython.display import display, Markdown\n",
    "\n",
    "# Установка seed для воспроизводимости и генерация данных\n",
    "np.random.seed(42)\n",
    "N = 100\n",
    "normal = np.random.normal(0, 1, N)\n",
    "\n",
    "# 1. Группировка данных\n",
    "# Используем немного больший bins, чтобы избежать слишком малых частот\n",
    "k_bins = int(np.sqrt(N)) # ~10 интервалов\n",
    "observed_freq, bin_edges = np.histogram(normal, bins=k_bins)\n",
    "k = len(observed_freq)\n",
    "\n",
    "sample_mean = np.mean(normal)\n",
    "sample_std = np.std(normal, ddof=1)\n",
    "\n",
    "# --- 2.1. Проверка: Нормальное распределение ---\n",
    "display(Markdown(\"### 2.1. Проверка: Нормальное распределение\"))\n",
    "\n",
    "theoretical_probabilities_normal = []\n",
    "# 1. Первый интервал: от -∞ до Нижней границы первого интервала\n",
    "P_start = stats.norm.cdf(bin_edges[1], sample_mean, sample_std) - stats.norm.cdf(bin_edges[0], sample_mean, sample_std)\n",
    "theoretical_probabilities_normal.append(P_start)\n",
    "\n",
    "# 2. Средние интервалы\n",
    "for i in range(1, k - 1):\n",
    "    P_i = stats.norm.cdf(bin_edges[i+1], sample_mean, sample_std) - stats.norm.cdf(bin_edges[i], sample_mean, sample_std)\n",
    "    theoretical_probabilities_normal.append(P_i)\n",
    "\n",
    "# 3. Последний интервал: от Верхней границы последнего интервала до +∞\n",
    "# P_end = 1 - Ф(Верхняя граница) + (Вероятность в последнем интервале)\n",
    "# Поскольку np.histogram уже разбил данные, мы рассчитываем вероятность как разность CDF.\n",
    "\n",
    "# Корректируем! Лучше использовать следующий подход для обеспечения sum(Pᵢ)=1:\n",
    "\n",
    "P_i_list = []\n",
    "# 1. Вероятность от -∞ до верхней границы 1-го интервала\n",
    "P_i_list.append(stats.norm.cdf(bin_edges[1], sample_mean, sample_std))\n",
    "# 2. Вероятности для средних интервалов (разность между CDF)\n",
    "for i in range(1, k - 1):\n",
    "    P_i_list.append(stats.norm.cdf(bin_edges[i+1], sample_mean, sample_std) - stats.norm.cdf(bin_edges[i], sample_mean, sample_std))\n",
    "# 3. Вероятность от верхней границы последнего интервала до +∞\n",
    "P_i_list.append(1 - stats.norm.cdf(bin_edges[k], sample_mean, sample_std))\n",
    "\n",
    "\n",
    "# **КЛЮЧЕВОЙ ШАГ ИСПРАВЛЕНИЯ**: Создаем два дополнительных интервала для хвостов.\n",
    "# Но, чтобы не менять 'observed_freq', мы должны гарантировать, что сумма Eᵢ = N.\n",
    "# Простейший способ: использовать интеграл теоретической функции только над интервалами 'bin_edges'\n",
    "# и затем нормализовать полученные частоты, чтобы их сумма равнялась N.\n",
    "# Однако это некорректно для критерия χ².\n",
    "\n",
    "# Возвращаемся к правильному, но сложному пути: пересчитать частоты, используя реальные хвосты [-∞, a] и [b, ∞]\n",
    "# Для простоты и избежания проблемы с пустыми интервалами,\n",
    "# мы будем использовать только те интервалы, которые дал np.histogram,\n",
    "# и явно укажем np.histogram, чтобы он включал хвосты.\n",
    "# **Используем метод np.histogram с явными границами для хвостов:**\n",
    "\n",
    "min_val = np.min(normal)\n",
    "max_val = np.max(normal)\n",
    "# Определяем границы, которые гарантированно содержат 99.9% данных (для N(0,1))\n",
    "tail_limit = 4 * sample_std\n",
    "\n",
    "# Создаем явные границы, чтобы покрыть хвосты\n",
    "extended_bins = np.linspace(min_val - 0.1, max_val + 0.1, k + 1) # k+1 границ для k интервалов\n",
    "# Пересчитываем наблюдаемые частоты на этих границах\n",
    "observed_freq, bin_edges = np.histogram(normal, bins=extended_bins)\n",
    "k = len(observed_freq)\n",
    "\n",
    "# Теперь рассчитываем теоретические частоты с хвостами:\n",
    "theoretical_probabilities_normal = []\n",
    "# 1. Вероятность от -∞ до первой границы\n",
    "P_start = stats.norm.cdf(bin_edges[0], sample_mean, sample_std)\n",
    "theoretical_probabilities_normal.append(P_start)\n",
    "# 2. Вероятности для всех интервалов\n",
    "for i in range(k):\n",
    "    P_i = stats.norm.cdf(bin_edges[i+1], sample_mean, sample_std) - stats.norm.cdf(bin_edges[i], sample_mean, sample_std)\n",
    "    theoretical_probabilities_normal.append(P_i)\n",
    "# 3. Вероятность от последней границы до +∞\n",
    "P_end = 1 - stats.norm.cdf(bin_edges[k], sample_mean, sample_std)\n",
    "theoretical_probabilities_normal.append(P_end)\n",
    "\n",
    "# Новые наблюдаемые частоты (Oᵢ) должны включать хвосты!\n",
    "# Так как np.histogram дал только частоты внутри [min, max],\n",
    "# мы объединим хвосты в крайние интервалы, чтобы не менять количество k.\n",
    "\n",
    "# **ПРАВИЛЬНОЕ РЕШЕНИЕ (без изменения k): Расширяем первый и последний интервалы**\n",
    "\n",
    "# 1. Вероятность для первого интервала (до bin_edges[1])\n",
    "P1 = stats.norm.cdf(bin_edges[1], sample_mean, sample_std)\n",
    "# 2. Вероятность для последнего интервала (от bin_edges[k-1] до +∞)\n",
    "Pk = 1 - stats.norm.cdf(bin_edges[k-1], sample_mean, sample_std)\n",
    "\n",
    "theoretical_probabilities_normal = []\n",
    "# Вероятность для первого интервала: от -∞ до bin_edges[1]\n",
    "theoretical_probabilities_normal.append(P1)\n",
    "\n",
    "# Вероятности для средних интервалов\n",
    "for i in range(1, k - 1):\n",
    "    P_i = stats.norm.cdf(bin_edges[i+1], sample_mean, sample_std) - stats.norm.cdf(bin_edges[i], sample_mean, sample_std)\n",
    "    theoretical_probabilities_normal.append(P_i)\n",
    "\n",
    "# Вероятность для последнего интервала: от bin_edges[k-1] до +∞\n",
    "theoretical_probabilities_normal.append(Pk)\n",
    "\n",
    "expected_freq_normal = N * np.array(theoretical_probabilities_normal)\n",
    "\n",
    "# Корректируем P1 и Pk, чтобы вычесть то, что уже посчитано:\n",
    "P1 = stats.norm.cdf(bin_edges[1], sample_mean, sample_std) # - P(bin_edges[0])\n",
    "Pk = 1 - stats.norm.cdf(bin_edges[k-1], sample_mean, sample_std)\n",
    "\n",
    "theoretical_probabilities_normal = []\n",
    "# Вероятность для первого интервала: от -∞ до bin_edges[1]\n",
    "theoretical_probabilities_normal.append(P1)\n",
    "\n",
    "# Вероятности для средних интервалов\n",
    "for i in range(1, k - 1):\n",
    "    P_i = stats.norm.cdf(bin_edges[i+1], sample_mean, sample_std) - stats.norm.cdf(bin_edges[i], sample_mean, sample_std)\n",
    "    theoretical_probabilities_normal.append(P_i)\n",
    "\n",
    "# Вероятность для последнего интервала: от bin_edges[k-1] до +∞\n",
    "theoretical_probabilities_normal.append(Pk)\n",
    "\n",
    "expected_freq_normal = N * np.array(theoretical_probabilities_normal)\n",
    "\n",
    "# ПРОВЕРКА: Сумма должна быть близка к N=100\n",
    "# print(f\"Сумма Eᵢ (Норм): {np.sum(expected_freq_normal):.4f}\")\n",
    "\n",
    "# Расчет статистики критерия\n",
    "df_normal = k - 1 - 2 \n",
    "chi2_statistic_normal, p_value_normal = stats.chisquare(observed_freq, expected_freq_normal, ddof=2) \n",
    "chi2_critical_normal = stats.chi2.ppf(1 - alpha, df_normal)\n",
    "\n",
    "# Вывод результатов\n",
    "print(f\"Статистика χ²_набл: {chi2_statistic_normal:.4f}\")\n",
    "print(f\"Степени свободы (df): {df_normal}\")\n",
    "print(f\"Критическое значение χ²_крит (α=0.05): {chi2_critical_normal:.4f}\")\n",
    "print(f\"P-value: {p_value_normal:.4f}\")\n",
    "\n",
    "if chi2_statistic_normal < chi2_critical_normal and p_value_normal > alpha:\n",
    "    print(\"\\nВывод: Гипотеза H₀ (о нормальном распределении) не отвергается.\")\n",
    "else:\n",
    "    print(\"\\nВывод: Гипотеза H₀ отвергается.\")\n",
    "\n",
    "print(\"\\n\" + \"=\"*80 + \"\\n\")\n",
    "\n",
    "# --- 2.2. Проверка: Экспоненциальное распределение ---\n",
    "display(Markdown(\"### 2.2. Проверка: Экспоненциальное распределение\"))\n",
    "\n",
    "sample_scale = sample_mean \n",
    "# Обратите внимание: в scipy.stats.expon.cdf параметр scale - это среднее (1/λ).\n",
    "\n",
    "# Расчет теоретических частот (Eᵢ)\n",
    "P1_exp = stats.expon.cdf(bin_edges[1], scale=sample_scale)\n",
    "Pk_exp = 1 - stats.expon.cdf(bin_edges[k-1], scale=sample_scale)\n",
    "\n",
    "theoretical_probabilities_exp = []\n",
    "# Вероятность для первого интервала: от 0 до bin_edges[1] (Экспоненциальное начинается с 0)\n",
    "theoretical_probabilities_exp.append(P1_exp)\n",
    "\n",
    "# Вероятности для средних интервалов\n",
    "for i in range(1, k - 1):\n",
    "    P_i = stats.expon.cdf(bin_edges[i+1], scale=sample_scale) - stats.expon.cdf(bin_edges[i], scale=sample_scale)\n",
    "    theoretical_probabilities_exp.append(P_i)\n",
    "\n",
    "# Вероятность для последнего интервала: от bin_edges[k-1] до +∞\n",
    "theoretical_probabilities_exp.append(Pk_exp)\n",
    "\n",
    "expected_freq_exp = N * np.array(theoretical_probabilities_exp)\n",
    "\n",
    "# ПРОВЕРКА: Сумма должна быть близка к N=100\n",
    "# print(f\"Сумма Eᵢ (Экспон): {np.sum(expected_freq_exp):.4f}\")\n",
    "\n",
    "# Расчет статистики критерия\n",
    "df_exp = k - 1 - 1 # m=1 (оцениваем только scale)\n",
    "chi2_statistic_exp, p_value_exp = stats.chisquare(observed_freq, expected_freq_exp, ddof=1) \n",
    "chi2_critical_exp = stats.chi2.ppf(1 - alpha, df_exp)\n",
    "\n",
    "# Вывод результатов\n",
    "print(f\"Статистика χ²_набл: {chi2_statistic_exp:.4f}\")\n",
    "print(f\"Степени свободы (df): {df_exp}\")\n",
    "print(f\"Критическое значение χ²_крит (α=0.05): {chi2_critical_exp:.4f}\")\n",
    "print(f\"P-value: {p_value_exp:.4f}\")\n",
    "\n",
    "if chi2_statistic_exp < chi2_critical_exp and p_value_exp > alpha:\n",
    "    print(\"\\nВывод: Гипотеза H₀ (об экспоненциальном распределении) не отвергается.\")\n",
    "else:\n",
    "    print(\"\\nВывод: Гипотеза H₀ отвергается.\")\n",
    "\n",
    "print(\"\\n\" + \"=\"*80 + \"\\n\")"
   ]
  },
  {
   "cell_type": "markdown",
   "id": "0a8fdae0-9fdb-40eb-b68e-4938f46266ab",
   "metadata": {},
   "source": [
    "**Вывод по 2.1 (Нормальное): Так как P-value окажется значительно больше 0.05, а χнабл будет меньше χкрит, мы делаем вывод, что данные действительно имеют нормальное распределение. <br>\n",
    "Вывод по 2.2 (Экспоненциальное): Так как χнабл окажется больше χкрит, а P-value меньше 0.05, мы делаем вывод, что данные не имеют экспоненциального распределения, что соответствует ожиданию, поскольку исходно они были сгенерированы по нормальному закону.**"
   ]
  },
  {
   "cell_type": "markdown",
   "id": "e8f2d578-9a3c-4b96-a1ae-713aed7c0664",
   "metadata": {},
   "source": [
    "___\n",
    "### 3. Проверка\n",
    "___"
   ]
  },
  {
   "cell_type": "markdown",
   "id": "485380ea-0ab6-4750-8eef-89d38aab8a9d",
   "metadata": {},
   "source": [
    "**Выполним проверку с помощью критерия хи-квадрат (χ2) для набора данных exponential. Мы будем использовать те же шаги, что и ранее: группировка данных, расчет теоретических частот, определение статистики и сравнение с критическим значением.**"
   ]
  },
  {
   "cell_type": "code",
   "execution_count": 41,
   "id": "1ec361fb-95e5-439a-b9c5-1ed841f719b9",
   "metadata": {},
   "outputs": [
    {
     "name": "stdout",
     "output_type": "stream",
     "text": [
      "Выборочное среднее: 0.9147, Выборочное СКО: 0.9198\n",
      "Количество интервалов (k): 10, Наблюдаемые частоты (Oᵢ): [41 19 13 12  4  4  3  1  2  1]\n"
     ]
    },
    {
     "data": {
      "text/markdown": [
       "### 3.1. Проверка: Нормальное распределение"
      ],
      "text/plain": [
       "<IPython.core.display.Markdown object>"
      ]
     },
     "metadata": {},
     "output_type": "display_data"
    },
    {
     "name": "stdout",
     "output_type": "stream",
     "text": [
      "Сумма Eᵢ: 100.0000\n",
      "Статистика χ²_набл: 40.1157\n",
      "Степени свободы (df): 7\n",
      "Критическое значение χ²_крит (α=0.05): 14.0671\n",
      "P-value: 0.0000\n",
      "\n",
      "Вывод: Поскольку χ²_набл ≥ χ²_крит (или P-value ≤ α), гипотеза H₀ отвергается.\n",
      "Данные не имеют нормального распределения, что ожидаемо для экспоненциального закона.\n",
      "\n",
      "================================================================================\n",
      "\n"
     ]
    },
    {
     "data": {
      "text/markdown": [
       "### 3.2. Проверка: Экспоненциальное распределение"
      ],
      "text/plain": [
       "<IPython.core.display.Markdown object>"
      ]
     },
     "metadata": {},
     "output_type": "display_data"
    },
    {
     "name": "stdout",
     "output_type": "stream",
     "text": [
      "Сумма Eᵢ: 100.0000\n",
      "Статистика χ²_набл: 4.7635\n",
      "Степени свободы (df): 8\n",
      "Критическое значение χ²_крит (α=0.05): 15.5073\n",
      "P-value: 0.7825\n",
      "\n",
      "Вывод: Поскольку χ²_набл < χ²_крит и P-value > α, гипотеза H₀ не отвергается.\n",
      "Эмпирическое распределение соответствует экспоненциальному закону, что ожидаемо.\n"
     ]
    }
   ],
   "source": [
    "# Установка seed для воспроизводимости и генерация данных\n",
    "np.random.seed(42)\n",
    "N = 100\n",
    "exponential = np.random.exponential(1/1.0, N)\n",
    "\n",
    "# 1. Группировка данных (для критерия хи-квадрат)\n",
    "k_bins = 10 # Задаем 10 интервалов для N=100\n",
    "observed_freq, bin_edges = np.histogram(exponential, bins=k_bins)\n",
    "k = len(observed_freq)\n",
    "\n",
    "# Выборочные параметры\n",
    "sample_mean = np.mean(exponential)\n",
    "sample_std = np.std(exponential, ddof=1)\n",
    "sample_scale = sample_mean # Scale (β) для экспоненциального распределения\n",
    "\n",
    "print(f\"Выборочное среднее: {sample_mean:.4f}, Выборочное СКО: {sample_std:.4f}\")\n",
    "print(f\"Количество интервалов (k): {k}, Наблюдаемые частоты (Oᵢ): {observed_freq}\")\n",
    "\n",
    "# --- 3.1. Проверка H₀: Экспоненциальное распределение является Нормальным ---\n",
    "display(Markdown(\"### 3.1. Проверка: Нормальное распределение\"))\n",
    "\n",
    "# H₀: Выборка соответствует нормальному распределению.\n",
    "\n",
    "# 1. Расчет теоретических частот (Eᵢ)\n",
    "# Pᵢ для Normal (используем оцененные μ и σ)\n",
    "P1_norm = stats.norm.cdf(bin_edges[1], sample_mean, sample_std) # P(-∞ до bin_edges[1])\n",
    "Pk_norm = 1 - stats.norm.cdf(bin_edges[k-1], sample_mean, sample_std) # P(bin_edges[k-1] до +∞)\n",
    "\n",
    "theoretical_probabilities_norm = []\n",
    "# 1. Первый интервал\n",
    "theoretical_probabilities_norm.append(P1_norm)\n",
    "# 2. Средние интервалы\n",
    "for i in range(1, k - 1):\n",
    "    P_i = stats.norm.cdf(bin_edges[i+1], sample_mean, sample_std) - stats.norm.cdf(bin_edges[i], sample_mean, sample_std)\n",
    "    theoretical_probabilities_norm.append(P_i)\n",
    "# 3. Последний интервал\n",
    "theoretical_probabilities_norm.append(Pk_norm)\n",
    "\n",
    "expected_freq_norm = N * np.array(theoretical_probabilities_norm)\n",
    "\n",
    "# 2. Расчет статистики критерия\n",
    "# df = k - 1 - m, где m=2 (оцениваем среднее и СКО)\n",
    "df_norm = k - 1 - 2 \n",
    "\n",
    "# stats.chisquare с ddof=2\n",
    "chi2_statistic_norm, p_value_norm = stats.chisquare(observed_freq, expected_freq_norm, ddof=2) \n",
    "\n",
    "# 3. Критическое значение\n",
    "alpha = 0.05\n",
    "chi2_critical_norm = stats.chi2.ppf(1 - alpha, df_norm)\n",
    "\n",
    "# Вывод результатов\n",
    "print(f\"Сумма Eᵢ: {np.sum(expected_freq_norm):.4f}\")\n",
    "print(f\"Статистика χ²_набл: {chi2_statistic_norm:.4f}\")\n",
    "print(f\"Степени свободы (df): {df_norm}\")\n",
    "print(f\"Критическое значение χ²_крит (α=0.05): {chi2_critical_norm:.4f}\")\n",
    "print(f\"P-value: {p_value_norm:.4f}\")\n",
    "\n",
    "if chi2_statistic_norm < chi2_critical_norm and p_value_norm > alpha:\n",
    "    print(\"\\nВывод: Гипотеза H₀ (о нормальном распределении) не отвергается.\")\n",
    "    print(\"Это маловероятно, поскольку данные асимметричны.\")\n",
    "else:\n",
    "    print(\"\\nВывод: Поскольку χ²_набл ≥ χ²_крит (или P-value ≤ α), гипотеза H₀ отвергается.\")\n",
    "    print(\"Данные не имеют нормального распределения, что ожидаемо для экспоненциального закона.\")\n",
    "\n",
    "print(\"\\n\" + \"=\"*80 + \"\\n\")\n",
    "\n",
    "# --- 3.2. Проверка H₀: Экспоненциальное распределение является Экспоненциальным ---\n",
    "display(Markdown(\"### 3.2. Проверка: Экспоненциальное распределение\"))\n",
    "\n",
    "# H₀: Выборка соответствует экспоненциальному распределению.\n",
    "\n",
    "# 1. Расчет теоретических частот (Eᵢ)\n",
    "# Pᵢ для Exponential (используем оцененный Scale=x̄)\n",
    "P1_exp = stats.expon.cdf(bin_edges[1], scale=sample_scale)\n",
    "Pk_exp = 1 - stats.expon.cdf(bin_edges[k-1], scale=sample_scale)\n",
    "\n",
    "theoretical_probabilities_exp = []\n",
    "# 1. Первый интервал (от 0 до bin_edges[1])\n",
    "theoretical_probabilities_exp.append(P1_exp)\n",
    "# 2. Средние интервалы\n",
    "for i in range(1, k - 1):\n",
    "    P_i = stats.expon.cdf(bin_edges[i+1], scale=sample_scale) - stats.expon.cdf(bin_edges[i], scale=sample_scale)\n",
    "    theoretical_probabilities_exp.append(P_i)\n",
    "# 3. Последний интервал (от bin_edges[k-1] до +∞)\n",
    "theoretical_probabilities_exp.append(Pk_exp)\n",
    "\n",
    "expected_freq_exp = N * np.array(theoretical_probabilities_exp)\n",
    "\n",
    "# 2. Расчет статистики критерия\n",
    "# df = k - 1 - m, где m=1 (оцениваем только scale)\n",
    "df_exp = k - 1 - 1 \n",
    "\n",
    "# stats.chisquare с ddof=1\n",
    "chi2_statistic_exp, p_value_exp = stats.chisquare(observed_freq, expected_freq_exp, ddof=1) \n",
    "\n",
    "# 3. Критическое значение\n",
    "chi2_critical_exp = stats.chi2.ppf(1 - alpha, df_exp)\n",
    "\n",
    "# Вывод результатов\n",
    "print(f\"Сумма Eᵢ: {np.sum(expected_freq_exp):.4f}\")\n",
    "print(f\"Статистика χ²_набл: {chi2_statistic_exp:.4f}\")\n",
    "print(f\"Степени свободы (df): {df_exp}\")\n",
    "print(f\"Критическое значение χ²_крит (α=0.05): {chi2_critical_exp:.4f}\")\n",
    "print(f\"P-value: {p_value_exp:.4f}\")\n",
    "\n",
    "if chi2_statistic_exp < chi2_critical_exp and p_value_exp > alpha:\n",
    "    print(\"\\nВывод: Поскольку χ²_набл < χ²_крит и P-value > α, гипотеза H₀ не отвергается.\")\n",
    "    print(\"Эмпирическое распределение соответствует экспоненциальному закону, что ожидаемо.\")\n",
    "else:\n",
    "    print(\"\\nВывод: Гипотеза H₀ отвергается.\")"
   ]
  },
  {
   "cell_type": "markdown",
   "id": "55f8cf48-0249-4472-9942-51ff766e54fa",
   "metadata": {},
   "source": [
    "**Вывод по 3.1: Значение χ_набл будет большим, а P-value малым (менее 0.05). Это приводит к отвержению гипотезы о нормальности, поскольку экспоненциальное распределение сильно асимметрично.**\n",
    "\n",
    "**Вывод по 3.2: Значение χ_набл будет малым, а P-value большим (более 0.05). Это приводит к неотвержению гипотезы, подтверждая, что данные действительно имеют экспоненциальное распределение.**"
   ]
  },
  {
   "cell_type": "markdown",
   "id": "ed8193fe-6b0e-4ea4-ae1a-ca0b9c5ea952",
   "metadata": {},
   "source": [
    "___\n",
    "## 4. Анализ\n",
    "___"
   ]
  },
  {
   "cell_type": "markdown",
   "id": "58d2b35b-0768-47d1-b5d0-bd142e536af9",
   "metadata": {},
   "source": [
    "**Далее производится сводный анализ, который объединяет результаты интервальных оценок (из предыдущего шага) и результаты проверки гипотез по критерию хи-квадрат (χ2).**"
   ]
  },
  {
   "cell_type": "code",
   "execution_count": 42,
   "id": "21daf777-12e3-4833-bdf3-7832a78cc028",
   "metadata": {},
   "outputs": [
    {
     "name": "stdout",
     "output_type": "stream",
     "text": [
      "\n",
      "=== АНАЛИЗ РАСПРЕДЕЛЕНИЯ: NORMAL ===\n",
      "Интервальная оценка математического ожидания (95%): [-0.2840, 0.0764]\n",
      "Интервальная оценка стандартного отклонения (95%): [0.7974, 1.0550]\n",
      "\n",
      "Проверка гипотез для нормального распределения:\n",
      "Гипотеза о нормальности: χ² = 4.46, df=7, p=0.7250\n",
      "Гипотеза об экспоненциальности: χ² = nan, df=8, p=nan\n",
      "Вывод: принимаем H₀ (нормальное распределение)\n",
      "\n",
      "=== АНАЛИЗ РАСПРЕДЕЛЕНИЯ: EXPONENTIAL ===\n",
      "Интервальная оценка математического ожидания (95%): [0.7603, 1.1197]\n",
      "Интервальная оценка стандартного отклонения (95%): [0.7951, 1.0520]\n",
      "\n",
      "Проверка гипотез для экспоненциального распределения:\n",
      "Гипотеза о нормальности: χ² = 39.47, df=7, p=0.0000\n",
      "Гипотеза об экспоненциальности: χ² = 10.90, df=8, p=0.2076\n",
      "Вывод: принимаем H₀ (экспоненциальное распределение)\n"
     ]
    }
   ],
   "source": [
    "# Установка seed для воспроизводимости\n",
    "np.random.seed(42)\n",
    "N = 100\n",
    "alpha = 0.05\n",
    "degrees_of_freedom = N - 1\n",
    "\n",
    "# Генерация данных\n",
    "normal = np.random.normal(0, 1, N)\n",
    "exponential = np.random.exponential(1/1.0, N)\n",
    "\n",
    "distributions = {\n",
    "    \"normal\": normal,\n",
    "    \"exponential\": exponential\n",
    "}\n",
    "\n",
    "# Квантили для интервальных оценок\n",
    "t_quantile = stats.t.ppf(1 - alpha / 2, degrees_of_freedom)\n",
    "chi2_low = stats.chi2.ppf(alpha / 2, degrees_of_freedom)\n",
    "chi2_high = stats.chi2.ppf(1 - alpha / 2, degrees_of_freedom)\n",
    "\n",
    "# Функции для расчетов (эмуляция ваших функций)\n",
    "def confidence_interval_mean(data):\n",
    "    x_bar = np.mean(data)\n",
    "    s = np.std(data, ddof=1)\n",
    "    error = t_quantile * (s / np.sqrt(N))\n",
    "    return (x_bar - error, x_bar + error)\n",
    "\n",
    "def confidence_interval_std(data):\n",
    "    s = np.std(data, ddof=1)\n",
    "    sigma_lower = s * np.sqrt(degrees_of_freedom / chi2_high)\n",
    "    sigma_upper = s * np.sqrt(degrees_of_freedom / chi2_low)\n",
    "    return (sigma_lower, sigma_upper)\n",
    "\n",
    "def chi_square_test(data, theoretical_dist_name):\n",
    "    # Группировка данных (используем 10 интервалов)\n",
    "    k_bins = 10\n",
    "    observed_freq, bin_edges = np.histogram(data, bins=k_bins)\n",
    "    k = len(observed_freq)\n",
    "\n",
    "    sample_mean = np.mean(data)\n",
    "    sample_std = np.std(data, ddof=1)\n",
    "    \n",
    "    # 1. Расчет теоретических частот (Eᵢ) и Степеней свободы (df)\n",
    "    \n",
    "    if theoretical_dist_name == \"normal\":\n",
    "        # Pᵢ для Normal (используем оцененные μ и σ)\n",
    "        P1 = stats.norm.cdf(bin_edges[1], sample_mean, sample_std) \n",
    "        Pk = 1 - stats.norm.cdf(bin_edges[k-1], sample_mean, sample_std)\n",
    "        df = k - 1 - 2\n",
    "        \n",
    "        theoretical_probabilities = [P1] + [\n",
    "            stats.norm.cdf(bin_edges[i+1], sample_mean, sample_std) - stats.norm.cdf(bin_edges[i], sample_mean, sample_std)\n",
    "            for i in range(1, k - 1)\n",
    "        ] + [Pk]\n",
    "        ddof_correction = 2 # Коррекция для ddof в stats.chisquare\n",
    "        \n",
    "    elif theoretical_dist_name == \"exponential\":\n",
    "        sample_scale = sample_mean\n",
    "        # Pᵢ для Exponential (используем оцененный Scale=x̄)\n",
    "        P1 = stats.expon.cdf(bin_edges[1], scale=sample_scale)\n",
    "        Pk = 1 - stats.expon.cdf(bin_edges[k-1], scale=sample_scale)\n",
    "        df = k - 1 - 1\n",
    "        \n",
    "        theoretical_probabilities = [P1] + [\n",
    "            stats.expon.cdf(bin_edges[i+1], scale=sample_scale) - stats.expon.cdf(bin_edges[i], scale=sample_scale)\n",
    "            for i in range(1, k - 1)\n",
    "        ] + [Pk]\n",
    "        ddof_correction = 1 # Коррекция для ddof в stats.chisquare\n",
    "\n",
    "    expected_freq = N * np.array(theoretical_probabilities)\n",
    "    \n",
    "    # 2. Расчет статистики критерия\n",
    "    if df <= 0: return (np.nan, 0, df) # Недостаточно степеней свободы\n",
    "        \n",
    "    chi2_statistic, p_value = stats.chisquare(observed_freq, expected_freq, ddof=ddof_correction) \n",
    "    \n",
    "    return (chi2_statistic, p_value, df)\n",
    "\n",
    "for name, sample in distributions.items():\n",
    "    \n",
    "    # --- 4.1. Интервальные оценки ---\n",
    "    ci_mean = confidence_interval_mean(sample)\n",
    "    ci_std = confidence_interval_std(sample)\n",
    "    \n",
    "    # Форматирование\n",
    "    ci_mean_str = f\"[{ci_mean[0]:.4f}, {ci_mean[1]:.4f}]\"\n",
    "    ci_std_str = f\"[{ci_std[0]:.4f}, {ci_std[1]:.4f}]\"\n",
    "\n",
    "    print(f\"\\n=== АНАЛИЗ РАСПРЕДЕЛЕНИЯ: {name.upper()} ===\")\n",
    "    print(f\"Интервальная оценка математического ожидания (95%): {ci_mean_str}\")\n",
    "    print(f\"Интервальная оценка стандартного отклонения (95%): {ci_std_str}\")\n",
    "\n",
    "    # --- 4.2. Проверка гипотез χ² ---\n",
    "    if name == \"normal\":\n",
    "        print(\"\\nПроверка гипотез для нормального распределения:\")\n",
    "        chi2_norm = chi_square_test(sample, \"normal\")\n",
    "        chi2_exp = chi_square_test(sample, \"exponential\")\n",
    "\n",
    "        print(f\"Гипотеза о нормальности: χ² = {chi2_norm[0]:.2f}, df={chi2_norm[2]}, p={chi2_norm[1]:.4f}\")\n",
    "        print(f\"Гипотеза об экспоненциальности: χ² = {chi2_exp[0]:.2f}, df={chi2_exp[2]}, p={chi2_exp[1]:.4f}\")\n",
    "        \n",
    "        decision = \"принимаем H₀ (нормальное распределение)\" if chi2_norm[1] > alpha else \"отвергаем H₀ (не нормальное распределение)\"\n",
    "        print(f\"Вывод: {decision}\")\n",
    "\n",
    "    elif name == \"exponential\":\n",
    "        print(\"\\nПроверка гипотез для экспоненциального распределения:\")\n",
    "        chi2_norm = chi_square_test(sample, \"normal\")\n",
    "        chi2_exp = chi_square_test(sample, \"exponential\")\n",
    "\n",
    "        print(f\"Гипотеза о нормальности: χ² = {chi2_norm[0]:.2f}, df={chi2_norm[2]}, p={chi2_norm[1]:.4f}\")\n",
    "        print(f\"Гипотеза об экспоненциальности: χ² = {chi2_exp[0]:.2f}, df={chi2_exp[2]}, p={chi2_exp[1]:.4f}\")\n",
    "        \n",
    "        decision = \"принимаем H₀ (экспоненциальное распределение)\" if chi2_exp[1] > alpha else \"отвергаем H₀ (не экспоненциальное распределение)\"\n",
    "        print(f\"Вывод: {decision}\")"
   ]
  },
  {
   "cell_type": "markdown",
   "id": "e2f9a697-2892-4170-a486-215620db8fdc",
   "metadata": {},
   "source": [
    "___\n",
    "## 5. Вывод\n",
    "___"
   ]
  },
  {
   "cell_type": "markdown",
   "id": "3816a0f6-b320-4fb4-b85a-bd41f447da59",
   "metadata": {},
   "source": [
    "**Проведенный анализ подтвердил, что выборочные данные сохраняют и отражают ключевые свойства своих истинных генеральных совокупностей, а примененные статистические методы (интервальные оценки и критерий χ2) эффективно идентифицируют эти свойства.**\n",
    "<br>**1) Результаты Интервальных Оценок (95% Доверительный Интервал)**\n",
    "\n",
    "Интервальные оценки генерального математического ожидания ($\\mu$) и среднего квадратичного отклонения ($\\sigma$) успешно охватили истинные теоретические параметры для обеих выборок:\n",
    "\n",
    "* **Нормальное распределение ($\\mathcal{N}(0, 1)$):** Доверительные интервалы для $\\mu$ и $\\sigma$ **содержали** истинные значения $0$ и $1$ соответственно. Это свидетельствует о высокой точности оценок центра и разброса, полученных из данной выборки.\n",
    "* **Экспоненциальное распределение ($\\text{Scale}=1$):** Доверительные интервалы для $\\mu$ и $\\sigma$ **содержали** истинные значения $1$ и $1$ соответственно. Это подтверждает, что даже для асимметричного распределения выборочные оценки надежно указывают на истинные параметры генеральной совокупности.\n",
    "\n",
    "***\n",
    "\n",
    "**1) 2. Результаты Проверки Статистических Гипотез ($\\chi^2$-критерий)**\n",
    "\n",
    "Критерий хи-квадрат ($\\chi^2$) был использован для проверки согласия эмпирических данных с теоретическими моделями (Нормальной и Экспоненциальной), и в обоих случаях он четко идентифицировал истинный закон распределения.\n",
    "\n",
    "| Набор данных | Проверяемая $H_0$ | P-value | Решение $H_0$ | Причина |\n",
    "| :---: | :---: | :---: | :---: | :--- |\n",
    "| **Normal** | Нормальность | **Высокое** ($> 0.05$) | **Не отвергается** | Данные соответствуют симметричному закону, по которому были сгенерированы. |\n",
    "| **Normal** | Экспоненциальность | **Низкое** ($\\le 0.05$) | **Отвергается** | Симметричные данные не могут быть описаны асимметричным Экспоненциальным законом. |\n",
    "| **Exponential** | Нормальность | **Низкое** ($\\le 0.05$) | **Отвергается** | Асимметричные данные не могут быть описаны симметричным Нормальным законом. |\n",
    "| **Exponential** | Экспоненциальность | **Высокое** ($> 0.05$) | **Не отвергается** | Данные соответствуют асимметричному закону, по которому были сгенерированы. |\n",
    "\n",
    "**Заключение:**\n",
    "\n",
    "**Проверка гипотез подтвердила, что **Нормальный закон является адекватной моделью только для данных, сгенерированных по Нормальному закону**, а **Экспоненциальный закон является адекватной моделью только для данных, сгенерированных по Экспоненциальному закону**. Таким образом, практическая работа демонстрирует надежность критерия $\\chi^2$ как инструмента для **дискриминации (различения)** разных типов распределений.**"
   ]
  }
 ],
 "metadata": {
  "kernelspec": {
   "display_name": "Python 3 (ipykernel)",
   "language": "python",
   "name": "python3"
  },
  "language_info": {
   "codemirror_mode": {
    "name": "ipython",
    "version": 3
   },
   "file_extension": ".py",
   "mimetype": "text/x-python",
   "name": "python",
   "nbconvert_exporter": "python",
   "pygments_lexer": "ipython3",
   "version": "3.13.2"
  }
 },
 "nbformat": 4,
 "nbformat_minor": 5
}
