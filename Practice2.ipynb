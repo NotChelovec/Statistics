{
 "cells": [
  {
   "cell_type": "markdown",
   "id": "ccdca293-0b0b-48c7-ae62-0553666e240f",
   "metadata": {},
   "source": [
    "# Практика №2"
   ]
  },
  {
   "cell_type": "code",
   "execution_count": null,
   "id": "002695b2-9e57-4d28-a652-dee7770f9142",
   "metadata": {},
   "outputs": [],
   "source": []
  },
  {
   "cell_type": "code",
   "execution_count": null,
   "id": "8b7d32b8-2575-49b0-942c-ebc33f8c5756",
   "metadata": {},
   "outputs": [],
   "source": []
  },
  {
   "cell_type": "code",
   "execution_count": null,
   "id": "c46f2a77-b848-4d02-8ce7-695d328f2820",
   "metadata": {},
   "outputs": [],
   "source": []
  },
  {
   "cell_type": "code",
   "execution_count": null,
   "id": "1e82a883-42a6-4203-b794-866d3b595326",
   "metadata": {},
   "outputs": [],
   "source": []
  }
 ],
 "metadata": {
  "kernelspec": {
   "display_name": "Python 3 (ipykernel)",
   "language": "python",
   "name": "python3"
  },
  "language_info": {
   "codemirror_mode": {
    "name": "ipython",
    "version": 3
   },
   "file_extension": ".py",
   "mimetype": "text/x-python",
   "name": "python",
   "nbconvert_exporter": "python",
   "pygments_lexer": "ipython3",
   "version": "3.13.2"
  }
 },
 "nbformat": 4,
 "nbformat_minor": 5
}
